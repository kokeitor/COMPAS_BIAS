{
  "nbformat": 4,
  "nbformat_minor": 0,
  "metadata": {
    "colab": {
      "provenance": [],
      "mount_file_id": "1oUr7IW1gqQpqFj8soAuGIT6pI4wyz1x7",
      "authorship_tag": "ABX9TyMUMYse2g/lxpI8O9n7IpW7",
      "include_colab_link": true
    },
    "kernelspec": {
      "name": "python3",
      "display_name": "Python 3"
    },
    "language_info": {
      "name": "python"
    }
  },
  "cells": [
    {
      "cell_type": "markdown",
      "metadata": {
        "id": "view-in-github",
        "colab_type": "text"
      },
      "source": [
        "<a href=\"https://colab.research.google.com/github/kokeitor/COMPAS_BIAS/blob/main/compas_bias.ipynb\" target=\"_parent\"><img src=\"https://colab.research.google.com/assets/colab-badge.svg\" alt=\"Open In Colab\"/></a>"
      ]
    },
    {
      "cell_type": "code",
      "execution_count": 1,
      "metadata": {
        "colab": {
          "base_uri": "https://localhost:8080/"
        },
        "id": "XDK-cA9RQ03a",
        "outputId": "9794230e-8302-40ef-bf79-57289d9d8950"
      },
      "outputs": [
        {
          "output_type": "stream",
          "name": "stdout",
          "text": [
            "Requirement already satisfied: pandas in /usr/local/lib/python3.10/dist-packages (2.0.3)\n",
            "Requirement already satisfied: numpy in /usr/local/lib/python3.10/dist-packages (1.25.2)\n",
            "Requirement already satisfied: matplotlib in /usr/local/lib/python3.10/dist-packages (3.7.1)\n",
            "Requirement already satisfied: seaborn in /usr/local/lib/python3.10/dist-packages (0.13.1)\n",
            "Requirement already satisfied: scikit-learn in /usr/local/lib/python3.10/dist-packages (1.2.2)\n",
            "Requirement already satisfied: python-dateutil>=2.8.2 in /usr/local/lib/python3.10/dist-packages (from pandas) (2.8.2)\n",
            "Requirement already satisfied: pytz>=2020.1 in /usr/local/lib/python3.10/dist-packages (from pandas) (2023.4)\n",
            "Requirement already satisfied: tzdata>=2022.1 in /usr/local/lib/python3.10/dist-packages (from pandas) (2024.1)\n",
            "Requirement already satisfied: contourpy>=1.0.1 in /usr/local/lib/python3.10/dist-packages (from matplotlib) (1.2.1)\n",
            "Requirement already satisfied: cycler>=0.10 in /usr/local/lib/python3.10/dist-packages (from matplotlib) (0.12.1)\n",
            "Requirement already satisfied: fonttools>=4.22.0 in /usr/local/lib/python3.10/dist-packages (from matplotlib) (4.53.0)\n",
            "Requirement already satisfied: kiwisolver>=1.0.1 in /usr/local/lib/python3.10/dist-packages (from matplotlib) (1.4.5)\n",
            "Requirement already satisfied: packaging>=20.0 in /usr/local/lib/python3.10/dist-packages (from matplotlib) (24.1)\n",
            "Requirement already satisfied: pillow>=6.2.0 in /usr/local/lib/python3.10/dist-packages (from matplotlib) (9.4.0)\n",
            "Requirement already satisfied: pyparsing>=2.3.1 in /usr/local/lib/python3.10/dist-packages (from matplotlib) (3.1.2)\n",
            "Requirement already satisfied: scipy>=1.3.2 in /usr/local/lib/python3.10/dist-packages (from scikit-learn) (1.11.4)\n",
            "Requirement already satisfied: joblib>=1.1.1 in /usr/local/lib/python3.10/dist-packages (from scikit-learn) (1.4.2)\n",
            "Requirement already satisfied: threadpoolctl>=2.0.0 in /usr/local/lib/python3.10/dist-packages (from scikit-learn) (3.5.0)\n",
            "Requirement already satisfied: six>=1.5 in /usr/local/lib/python3.10/dist-packages (from python-dateutil>=2.8.2->pandas) (1.16.0)\n"
          ]
        }
      ],
      "source": [
        "!pip install  pandas numpy matplotlib seaborn scikit-learn"
      ]
    },
    {
      "cell_type": "code",
      "source": [
        "from google.colab import drive\n",
        "drive.mount('/content/drive')"
      ],
      "metadata": {
        "colab": {
          "base_uri": "https://localhost:8080/"
        },
        "id": "80sOeHaMRPRj",
        "outputId": "9e606f66-de1e-45b2-d2a3-458c298809fd"
      },
      "execution_count": 2,
      "outputs": [
        {
          "output_type": "stream",
          "name": "stdout",
          "text": [
            "Drive already mounted at /content/drive; to attempt to forcibly remount, call drive.mount(\"/content/drive\", force_remount=True).\n"
          ]
        }
      ]
    },
    {
      "cell_type": "code",
      "source": [
        "import pandas as pd\n",
        "import numpy as np\n",
        "import matplotlib.pyplot as plt\n",
        "import seaborn as sns\n",
        "import sklearn"
      ],
      "metadata": {
        "id": "tA_Q544pRyXE"
      },
      "execution_count": 104,
      "outputs": []
    },
    {
      "cell_type": "code",
      "source": [
        "data = pd.read_csv('/content/drive/MyDrive/MásterIA/etica/data/cox-violent-parsed.csv')"
      ],
      "metadata": {
        "id": "Ig72X7FWRd5d"
      },
      "execution_count": 105,
      "outputs": []
    },
    {
      "cell_type": "code",
      "source": [
        "data.head()"
      ],
      "metadata": {
        "colab": {
          "base_uri": "https://localhost:8080/",
          "height": 342
        },
        "id": "TWJV51dZRw6w",
        "outputId": "d1601615-b3a6-4d41-88b0-8c15120eb32c"
      },
      "execution_count": 106,
      "outputs": [
        {
          "output_type": "execute_result",
          "data": {
            "text/plain": [
              "    id              name    first       last compas_screening_date   sex  \\\n",
              "0  1.0  miguel hernandez   miguel  hernandez            14/08/2013  Male   \n",
              "1  2.0  miguel hernandez   miguel  hernandez            14/08/2013  Male   \n",
              "2  3.0      michael ryan  michael       ryan            31/12/2014  Male   \n",
              "3  4.0       kevon dixon    kevon      dixon            27/01/2013  Male   \n",
              "4  5.0          ed philo       ed      philo            14/04/2013  Male   \n",
              "\n",
              "          dob  age          age_cat              race  ...  \\\n",
              "0  18/04/1947   69  Greater than 45             Other  ...   \n",
              "1  18/04/1947   69  Greater than 45             Other  ...   \n",
              "2  06/02/1985   31          25 - 45         Caucasian  ...   \n",
              "3  22/01/1982   34          25 - 45  African-American  ...   \n",
              "4  14/05/1991   24     Less than 25  African-American  ...   \n",
              "\n",
              "   v_type_of_assessment  v_decile_score  v_score_text  v_screening_date  \\\n",
              "0      Risk of Violence               1           Low        14/08/2013   \n",
              "1      Risk of Violence               1           Low        14/08/2013   \n",
              "2      Risk of Violence               2           Low        31/12/2014   \n",
              "3      Risk of Violence               1           Low        27/01/2013   \n",
              "4      Risk of Violence               3           Low        14/04/2013   \n",
              "\n",
              "   in_custody  out_custody priors_count.1 start  end event  \n",
              "0  07/07/2014   14/07/2014              0     0  327     0  \n",
              "1  07/07/2014   14/07/2014              0   334  961     0  \n",
              "2  30/12/2014   03/01/2015              0     3  457     0  \n",
              "3  26/01/2013   05/02/2013              0     9  159     1  \n",
              "4  16/06/2013   16/06/2013              4     0   63     0  \n",
              "\n",
              "[5 rows x 52 columns]"
            ],
            "text/html": [
              "\n",
              "  <div id=\"df-5e9be236-2850-41ec-af3b-f22c5ef1febe\" class=\"colab-df-container\">\n",
              "    <div>\n",
              "<style scoped>\n",
              "    .dataframe tbody tr th:only-of-type {\n",
              "        vertical-align: middle;\n",
              "    }\n",
              "\n",
              "    .dataframe tbody tr th {\n",
              "        vertical-align: top;\n",
              "    }\n",
              "\n",
              "    .dataframe thead th {\n",
              "        text-align: right;\n",
              "    }\n",
              "</style>\n",
              "<table border=\"1\" class=\"dataframe\">\n",
              "  <thead>\n",
              "    <tr style=\"text-align: right;\">\n",
              "      <th></th>\n",
              "      <th>id</th>\n",
              "      <th>name</th>\n",
              "      <th>first</th>\n",
              "      <th>last</th>\n",
              "      <th>compas_screening_date</th>\n",
              "      <th>sex</th>\n",
              "      <th>dob</th>\n",
              "      <th>age</th>\n",
              "      <th>age_cat</th>\n",
              "      <th>race</th>\n",
              "      <th>...</th>\n",
              "      <th>v_type_of_assessment</th>\n",
              "      <th>v_decile_score</th>\n",
              "      <th>v_score_text</th>\n",
              "      <th>v_screening_date</th>\n",
              "      <th>in_custody</th>\n",
              "      <th>out_custody</th>\n",
              "      <th>priors_count.1</th>\n",
              "      <th>start</th>\n",
              "      <th>end</th>\n",
              "      <th>event</th>\n",
              "    </tr>\n",
              "  </thead>\n",
              "  <tbody>\n",
              "    <tr>\n",
              "      <th>0</th>\n",
              "      <td>1.0</td>\n",
              "      <td>miguel hernandez</td>\n",
              "      <td>miguel</td>\n",
              "      <td>hernandez</td>\n",
              "      <td>14/08/2013</td>\n",
              "      <td>Male</td>\n",
              "      <td>18/04/1947</td>\n",
              "      <td>69</td>\n",
              "      <td>Greater than 45</td>\n",
              "      <td>Other</td>\n",
              "      <td>...</td>\n",
              "      <td>Risk of Violence</td>\n",
              "      <td>1</td>\n",
              "      <td>Low</td>\n",
              "      <td>14/08/2013</td>\n",
              "      <td>07/07/2014</td>\n",
              "      <td>14/07/2014</td>\n",
              "      <td>0</td>\n",
              "      <td>0</td>\n",
              "      <td>327</td>\n",
              "      <td>0</td>\n",
              "    </tr>\n",
              "    <tr>\n",
              "      <th>1</th>\n",
              "      <td>2.0</td>\n",
              "      <td>miguel hernandez</td>\n",
              "      <td>miguel</td>\n",
              "      <td>hernandez</td>\n",
              "      <td>14/08/2013</td>\n",
              "      <td>Male</td>\n",
              "      <td>18/04/1947</td>\n",
              "      <td>69</td>\n",
              "      <td>Greater than 45</td>\n",
              "      <td>Other</td>\n",
              "      <td>...</td>\n",
              "      <td>Risk of Violence</td>\n",
              "      <td>1</td>\n",
              "      <td>Low</td>\n",
              "      <td>14/08/2013</td>\n",
              "      <td>07/07/2014</td>\n",
              "      <td>14/07/2014</td>\n",
              "      <td>0</td>\n",
              "      <td>334</td>\n",
              "      <td>961</td>\n",
              "      <td>0</td>\n",
              "    </tr>\n",
              "    <tr>\n",
              "      <th>2</th>\n",
              "      <td>3.0</td>\n",
              "      <td>michael ryan</td>\n",
              "      <td>michael</td>\n",
              "      <td>ryan</td>\n",
              "      <td>31/12/2014</td>\n",
              "      <td>Male</td>\n",
              "      <td>06/02/1985</td>\n",
              "      <td>31</td>\n",
              "      <td>25 - 45</td>\n",
              "      <td>Caucasian</td>\n",
              "      <td>...</td>\n",
              "      <td>Risk of Violence</td>\n",
              "      <td>2</td>\n",
              "      <td>Low</td>\n",
              "      <td>31/12/2014</td>\n",
              "      <td>30/12/2014</td>\n",
              "      <td>03/01/2015</td>\n",
              "      <td>0</td>\n",
              "      <td>3</td>\n",
              "      <td>457</td>\n",
              "      <td>0</td>\n",
              "    </tr>\n",
              "    <tr>\n",
              "      <th>3</th>\n",
              "      <td>4.0</td>\n",
              "      <td>kevon dixon</td>\n",
              "      <td>kevon</td>\n",
              "      <td>dixon</td>\n",
              "      <td>27/01/2013</td>\n",
              "      <td>Male</td>\n",
              "      <td>22/01/1982</td>\n",
              "      <td>34</td>\n",
              "      <td>25 - 45</td>\n",
              "      <td>African-American</td>\n",
              "      <td>...</td>\n",
              "      <td>Risk of Violence</td>\n",
              "      <td>1</td>\n",
              "      <td>Low</td>\n",
              "      <td>27/01/2013</td>\n",
              "      <td>26/01/2013</td>\n",
              "      <td>05/02/2013</td>\n",
              "      <td>0</td>\n",
              "      <td>9</td>\n",
              "      <td>159</td>\n",
              "      <td>1</td>\n",
              "    </tr>\n",
              "    <tr>\n",
              "      <th>4</th>\n",
              "      <td>5.0</td>\n",
              "      <td>ed philo</td>\n",
              "      <td>ed</td>\n",
              "      <td>philo</td>\n",
              "      <td>14/04/2013</td>\n",
              "      <td>Male</td>\n",
              "      <td>14/05/1991</td>\n",
              "      <td>24</td>\n",
              "      <td>Less than 25</td>\n",
              "      <td>African-American</td>\n",
              "      <td>...</td>\n",
              "      <td>Risk of Violence</td>\n",
              "      <td>3</td>\n",
              "      <td>Low</td>\n",
              "      <td>14/04/2013</td>\n",
              "      <td>16/06/2013</td>\n",
              "      <td>16/06/2013</td>\n",
              "      <td>4</td>\n",
              "      <td>0</td>\n",
              "      <td>63</td>\n",
              "      <td>0</td>\n",
              "    </tr>\n",
              "  </tbody>\n",
              "</table>\n",
              "<p>5 rows × 52 columns</p>\n",
              "</div>\n",
              "    <div class=\"colab-df-buttons\">\n",
              "\n",
              "  <div class=\"colab-df-container\">\n",
              "    <button class=\"colab-df-convert\" onclick=\"convertToInteractive('df-5e9be236-2850-41ec-af3b-f22c5ef1febe')\"\n",
              "            title=\"Convert this dataframe to an interactive table.\"\n",
              "            style=\"display:none;\">\n",
              "\n",
              "  <svg xmlns=\"http://www.w3.org/2000/svg\" height=\"24px\" viewBox=\"0 -960 960 960\">\n",
              "    <path d=\"M120-120v-720h720v720H120Zm60-500h600v-160H180v160Zm220 220h160v-160H400v160Zm0 220h160v-160H400v160ZM180-400h160v-160H180v160Zm440 0h160v-160H620v160ZM180-180h160v-160H180v160Zm440 0h160v-160H620v160Z\"/>\n",
              "  </svg>\n",
              "    </button>\n",
              "\n",
              "  <style>\n",
              "    .colab-df-container {\n",
              "      display:flex;\n",
              "      gap: 12px;\n",
              "    }\n",
              "\n",
              "    .colab-df-convert {\n",
              "      background-color: #E8F0FE;\n",
              "      border: none;\n",
              "      border-radius: 50%;\n",
              "      cursor: pointer;\n",
              "      display: none;\n",
              "      fill: #1967D2;\n",
              "      height: 32px;\n",
              "      padding: 0 0 0 0;\n",
              "      width: 32px;\n",
              "    }\n",
              "\n",
              "    .colab-df-convert:hover {\n",
              "      background-color: #E2EBFA;\n",
              "      box-shadow: 0px 1px 2px rgba(60, 64, 67, 0.3), 0px 1px 3px 1px rgba(60, 64, 67, 0.15);\n",
              "      fill: #174EA6;\n",
              "    }\n",
              "\n",
              "    .colab-df-buttons div {\n",
              "      margin-bottom: 4px;\n",
              "    }\n",
              "\n",
              "    [theme=dark] .colab-df-convert {\n",
              "      background-color: #3B4455;\n",
              "      fill: #D2E3FC;\n",
              "    }\n",
              "\n",
              "    [theme=dark] .colab-df-convert:hover {\n",
              "      background-color: #434B5C;\n",
              "      box-shadow: 0px 1px 3px 1px rgba(0, 0, 0, 0.15);\n",
              "      filter: drop-shadow(0px 1px 2px rgba(0, 0, 0, 0.3));\n",
              "      fill: #FFFFFF;\n",
              "    }\n",
              "  </style>\n",
              "\n",
              "    <script>\n",
              "      const buttonEl =\n",
              "        document.querySelector('#df-5e9be236-2850-41ec-af3b-f22c5ef1febe button.colab-df-convert');\n",
              "      buttonEl.style.display =\n",
              "        google.colab.kernel.accessAllowed ? 'block' : 'none';\n",
              "\n",
              "      async function convertToInteractive(key) {\n",
              "        const element = document.querySelector('#df-5e9be236-2850-41ec-af3b-f22c5ef1febe');\n",
              "        const dataTable =\n",
              "          await google.colab.kernel.invokeFunction('convertToInteractive',\n",
              "                                                    [key], {});\n",
              "        if (!dataTable) return;\n",
              "\n",
              "        const docLinkHtml = 'Like what you see? Visit the ' +\n",
              "          '<a target=\"_blank\" href=https://colab.research.google.com/notebooks/data_table.ipynb>data table notebook</a>'\n",
              "          + ' to learn more about interactive tables.';\n",
              "        element.innerHTML = '';\n",
              "        dataTable['output_type'] = 'display_data';\n",
              "        await google.colab.output.renderOutput(dataTable, element);\n",
              "        const docLink = document.createElement('div');\n",
              "        docLink.innerHTML = docLinkHtml;\n",
              "        element.appendChild(docLink);\n",
              "      }\n",
              "    </script>\n",
              "  </div>\n",
              "\n",
              "\n",
              "<div id=\"df-5eeb532e-41f0-4845-b420-10392cc3e85f\">\n",
              "  <button class=\"colab-df-quickchart\" onclick=\"quickchart('df-5eeb532e-41f0-4845-b420-10392cc3e85f')\"\n",
              "            title=\"Suggest charts\"\n",
              "            style=\"display:none;\">\n",
              "\n",
              "<svg xmlns=\"http://www.w3.org/2000/svg\" height=\"24px\"viewBox=\"0 0 24 24\"\n",
              "     width=\"24px\">\n",
              "    <g>\n",
              "        <path d=\"M19 3H5c-1.1 0-2 .9-2 2v14c0 1.1.9 2 2 2h14c1.1 0 2-.9 2-2V5c0-1.1-.9-2-2-2zM9 17H7v-7h2v7zm4 0h-2V7h2v10zm4 0h-2v-4h2v4z\"/>\n",
              "    </g>\n",
              "</svg>\n",
              "  </button>\n",
              "\n",
              "<style>\n",
              "  .colab-df-quickchart {\n",
              "      --bg-color: #E8F0FE;\n",
              "      --fill-color: #1967D2;\n",
              "      --hover-bg-color: #E2EBFA;\n",
              "      --hover-fill-color: #174EA6;\n",
              "      --disabled-fill-color: #AAA;\n",
              "      --disabled-bg-color: #DDD;\n",
              "  }\n",
              "\n",
              "  [theme=dark] .colab-df-quickchart {\n",
              "      --bg-color: #3B4455;\n",
              "      --fill-color: #D2E3FC;\n",
              "      --hover-bg-color: #434B5C;\n",
              "      --hover-fill-color: #FFFFFF;\n",
              "      --disabled-bg-color: #3B4455;\n",
              "      --disabled-fill-color: #666;\n",
              "  }\n",
              "\n",
              "  .colab-df-quickchart {\n",
              "    background-color: var(--bg-color);\n",
              "    border: none;\n",
              "    border-radius: 50%;\n",
              "    cursor: pointer;\n",
              "    display: none;\n",
              "    fill: var(--fill-color);\n",
              "    height: 32px;\n",
              "    padding: 0;\n",
              "    width: 32px;\n",
              "  }\n",
              "\n",
              "  .colab-df-quickchart:hover {\n",
              "    background-color: var(--hover-bg-color);\n",
              "    box-shadow: 0 1px 2px rgba(60, 64, 67, 0.3), 0 1px 3px 1px rgba(60, 64, 67, 0.15);\n",
              "    fill: var(--button-hover-fill-color);\n",
              "  }\n",
              "\n",
              "  .colab-df-quickchart-complete:disabled,\n",
              "  .colab-df-quickchart-complete:disabled:hover {\n",
              "    background-color: var(--disabled-bg-color);\n",
              "    fill: var(--disabled-fill-color);\n",
              "    box-shadow: none;\n",
              "  }\n",
              "\n",
              "  .colab-df-spinner {\n",
              "    border: 2px solid var(--fill-color);\n",
              "    border-color: transparent;\n",
              "    border-bottom-color: var(--fill-color);\n",
              "    animation:\n",
              "      spin 1s steps(1) infinite;\n",
              "  }\n",
              "\n",
              "  @keyframes spin {\n",
              "    0% {\n",
              "      border-color: transparent;\n",
              "      border-bottom-color: var(--fill-color);\n",
              "      border-left-color: var(--fill-color);\n",
              "    }\n",
              "    20% {\n",
              "      border-color: transparent;\n",
              "      border-left-color: var(--fill-color);\n",
              "      border-top-color: var(--fill-color);\n",
              "    }\n",
              "    30% {\n",
              "      border-color: transparent;\n",
              "      border-left-color: var(--fill-color);\n",
              "      border-top-color: var(--fill-color);\n",
              "      border-right-color: var(--fill-color);\n",
              "    }\n",
              "    40% {\n",
              "      border-color: transparent;\n",
              "      border-right-color: var(--fill-color);\n",
              "      border-top-color: var(--fill-color);\n",
              "    }\n",
              "    60% {\n",
              "      border-color: transparent;\n",
              "      border-right-color: var(--fill-color);\n",
              "    }\n",
              "    80% {\n",
              "      border-color: transparent;\n",
              "      border-right-color: var(--fill-color);\n",
              "      border-bottom-color: var(--fill-color);\n",
              "    }\n",
              "    90% {\n",
              "      border-color: transparent;\n",
              "      border-bottom-color: var(--fill-color);\n",
              "    }\n",
              "  }\n",
              "</style>\n",
              "\n",
              "  <script>\n",
              "    async function quickchart(key) {\n",
              "      const quickchartButtonEl =\n",
              "        document.querySelector('#' + key + ' button');\n",
              "      quickchartButtonEl.disabled = true;  // To prevent multiple clicks.\n",
              "      quickchartButtonEl.classList.add('colab-df-spinner');\n",
              "      try {\n",
              "        const charts = await google.colab.kernel.invokeFunction(\n",
              "            'suggestCharts', [key], {});\n",
              "      } catch (error) {\n",
              "        console.error('Error during call to suggestCharts:', error);\n",
              "      }\n",
              "      quickchartButtonEl.classList.remove('colab-df-spinner');\n",
              "      quickchartButtonEl.classList.add('colab-df-quickchart-complete');\n",
              "    }\n",
              "    (() => {\n",
              "      let quickchartButtonEl =\n",
              "        document.querySelector('#df-5eeb532e-41f0-4845-b420-10392cc3e85f button');\n",
              "      quickchartButtonEl.style.display =\n",
              "        google.colab.kernel.accessAllowed ? 'block' : 'none';\n",
              "    })();\n",
              "  </script>\n",
              "</div>\n",
              "\n",
              "    </div>\n",
              "  </div>\n"
            ],
            "application/vnd.google.colaboratory.intrinsic+json": {
              "type": "dataframe",
              "variable_name": "data"
            }
          },
          "metadata": {},
          "execution_count": 106
        }
      ]
    },
    {
      "cell_type": "code",
      "source": [
        "data.info()"
      ],
      "metadata": {
        "colab": {
          "base_uri": "https://localhost:8080/"
        },
        "id": "9RCp55skSxnQ",
        "outputId": "f40f726c-3f1f-4c05-ac31-51ca4ad99d9b"
      },
      "execution_count": 107,
      "outputs": [
        {
          "output_type": "stream",
          "name": "stdout",
          "text": [
            "<class 'pandas.core.frame.DataFrame'>\n",
            "RangeIndex: 18316 entries, 0 to 18315\n",
            "Data columns (total 52 columns):\n",
            " #   Column                   Non-Null Count  Dtype  \n",
            "---  ------                   --------------  -----  \n",
            " 0   id                       11001 non-null  float64\n",
            " 1   name                     18316 non-null  object \n",
            " 2   first                    18316 non-null  object \n",
            " 3   last                     18316 non-null  object \n",
            " 4   compas_screening_date    18316 non-null  object \n",
            " 5   sex                      18316 non-null  object \n",
            " 6   dob                      18316 non-null  object \n",
            " 7   age                      18316 non-null  int64  \n",
            " 8   age_cat                  18316 non-null  object \n",
            " 9   race                     18316 non-null  object \n",
            " 10  juv_fel_count            18316 non-null  int64  \n",
            " 11  decile_score             18316 non-null  int64  \n",
            " 12  juv_misd_count           18316 non-null  int64  \n",
            " 13  juv_other_count          18316 non-null  int64  \n",
            " 14  priors_count             18316 non-null  int64  \n",
            " 15  days_b_screening_arrest  17019 non-null  float64\n",
            " 16  c_jail_in                17019 non-null  object \n",
            " 17  c_jail_out               17019 non-null  object \n",
            " 18  c_case_number            17449 non-null  object \n",
            " 19  c_offense_date           14364 non-null  object \n",
            " 20  c_arrest_date            3085 non-null   object \n",
            " 21  c_days_from_compas       17449 non-null  float64\n",
            " 22  c_charge_degree          17449 non-null  object \n",
            " 23  c_charge_desc            17435 non-null  object \n",
            " 24  is_recid                 18316 non-null  int64  \n",
            " 25  r_case_number            8417 non-null   object \n",
            " 26  r_charge_degree          8417 non-null   object \n",
            " 27  r_days_from_arrest       6359 non-null   float64\n",
            " 28  r_offense_date           8417 non-null   object \n",
            " 29  r_charge_desc            8277 non-null   object \n",
            " 30  r_jail_in                6359 non-null   object \n",
            " 31  r_jail_out               6359 non-null   object \n",
            " 32  violent_recid            0 non-null      float64\n",
            " 33  is_violent_recid         18316 non-null  int64  \n",
            " 34  vr_case_number           1339 non-null   object \n",
            " 35  vr_charge_degree         1339 non-null   object \n",
            " 36  vr_offense_date          1339 non-null   object \n",
            " 37  vr_charge_desc           1339 non-null   object \n",
            " 38  type_of_assessment       18316 non-null  object \n",
            " 39  decile_score.1           18316 non-null  int64  \n",
            " 40  score_text               18293 non-null  object \n",
            " 41  screening_date           18316 non-null  object \n",
            " 42  v_type_of_assessment     18316 non-null  object \n",
            " 43  v_decile_score           18316 non-null  int64  \n",
            " 44  v_score_text             18310 non-null  object \n",
            " 45  v_screening_date         18316 non-null  object \n",
            " 46  in_custody               17722 non-null  object \n",
            " 47  out_custody              17722 non-null  object \n",
            " 48  priors_count.1           18316 non-null  int64  \n",
            " 49  start                    18316 non-null  int64  \n",
            " 50  end                      18316 non-null  int64  \n",
            " 51  event                    18316 non-null  int64  \n",
            "dtypes: float64(5), int64(14), object(33)\n",
            "memory usage: 7.3+ MB\n"
          ]
        }
      ]
    },
    {
      "cell_type": "code",
      "source": [
        "data.describe()"
      ],
      "metadata": {
        "colab": {
          "base_uri": "https://localhost:8080/",
          "height": 320
        },
        "id": "rnT7LpZhS0rp",
        "outputId": "cc3355f4-7f15-4c14-f52b-24dffc9e09d8"
      },
      "execution_count": 108,
      "outputs": [
        {
          "output_type": "execute_result",
          "data": {
            "text/plain": [
              "                id           age  juv_fel_count  decile_score  juv_misd_count  \\\n",
              "count  11001.00000  18316.000000   18316.000000  18316.000000    18316.000000   \n",
              "mean    5501.00000     34.019273       0.076873      4.997052        0.098439   \n",
              "std     3175.85949     11.667811       0.464272      2.937569        0.517639   \n",
              "min        1.00000     18.000000       0.000000     -1.000000        0.000000   \n",
              "25%     2751.00000     25.000000       0.000000      2.000000        0.000000   \n",
              "50%     5501.00000     31.000000       0.000000      5.000000        0.000000   \n",
              "75%     8251.00000     41.000000       0.000000      8.000000        0.000000   \n",
              "max    11001.00000     96.000000      20.000000     10.000000       13.000000   \n",
              "\n",
              "       juv_other_count  priors_count  days_b_screening_arrest  \\\n",
              "count     18316.000000  18316.000000             17019.000000   \n",
              "mean          0.124263      3.913191                 4.302485   \n",
              "std           0.524537      5.299864                81.159881   \n",
              "min           0.000000      0.000000              -597.000000   \n",
              "25%           0.000000      0.000000                -1.000000   \n",
              "50%           0.000000      2.000000                -1.000000   \n",
              "75%           0.000000      5.000000                 0.000000   \n",
              "max          17.000000     43.000000              1057.000000   \n",
              "\n",
              "       c_days_from_compas      is_recid  r_days_from_arrest  violent_recid  \\\n",
              "count        17449.000000  18316.000000         6359.000000            0.0   \n",
              "mean            57.694596      0.414774           19.961629            NaN   \n",
              "std            317.994694      0.576449           74.139695            NaN   \n",
              "min              0.000000     -1.000000           -1.000000            NaN   \n",
              "25%              1.000000      0.000000            0.000000            NaN   \n",
              "50%              1.000000      0.000000            0.000000            NaN   \n",
              "75%              2.000000      1.000000            1.000000            NaN   \n",
              "max           9485.000000      1.000000          993.000000            NaN   \n",
              "\n",
              "       is_violent_recid  decile_score.1  v_decile_score  priors_count.1  \\\n",
              "count      18316.000000    18316.000000    18316.000000    18316.000000   \n",
              "mean           0.073105        4.997052        4.022822        3.913191   \n",
              "std            0.260317        2.937569        2.614189        5.299864   \n",
              "min            0.000000       -1.000000       -1.000000        0.000000   \n",
              "25%            0.000000        2.000000        2.000000        0.000000   \n",
              "50%            0.000000        5.000000        4.000000        2.000000   \n",
              "75%            0.000000        8.000000        6.000000        5.000000   \n",
              "max            1.000000       10.000000       10.000000       43.000000   \n",
              "\n",
              "              start           end         event  \n",
              "count  18316.000000  18316.000000  18316.000000  \n",
              "mean     186.394901    625.210636      0.044715  \n",
              "std      283.373004    335.881439      0.206683  \n",
              "min        0.000000      0.000000      0.000000  \n",
              "25%        0.000000    364.000000      0.000000  \n",
              "50%        7.000000    634.000000      0.000000  \n",
              "75%      309.000000    897.000000      0.000000  \n",
              "max     1197.000000   1187.000000      1.000000  "
            ],
            "text/html": [
              "\n",
              "  <div id=\"df-c1a3172d-6193-45d7-9606-39a39d129ae3\" class=\"colab-df-container\">\n",
              "    <div>\n",
              "<style scoped>\n",
              "    .dataframe tbody tr th:only-of-type {\n",
              "        vertical-align: middle;\n",
              "    }\n",
              "\n",
              "    .dataframe tbody tr th {\n",
              "        vertical-align: top;\n",
              "    }\n",
              "\n",
              "    .dataframe thead th {\n",
              "        text-align: right;\n",
              "    }\n",
              "</style>\n",
              "<table border=\"1\" class=\"dataframe\">\n",
              "  <thead>\n",
              "    <tr style=\"text-align: right;\">\n",
              "      <th></th>\n",
              "      <th>id</th>\n",
              "      <th>age</th>\n",
              "      <th>juv_fel_count</th>\n",
              "      <th>decile_score</th>\n",
              "      <th>juv_misd_count</th>\n",
              "      <th>juv_other_count</th>\n",
              "      <th>priors_count</th>\n",
              "      <th>days_b_screening_arrest</th>\n",
              "      <th>c_days_from_compas</th>\n",
              "      <th>is_recid</th>\n",
              "      <th>r_days_from_arrest</th>\n",
              "      <th>violent_recid</th>\n",
              "      <th>is_violent_recid</th>\n",
              "      <th>decile_score.1</th>\n",
              "      <th>v_decile_score</th>\n",
              "      <th>priors_count.1</th>\n",
              "      <th>start</th>\n",
              "      <th>end</th>\n",
              "      <th>event</th>\n",
              "    </tr>\n",
              "  </thead>\n",
              "  <tbody>\n",
              "    <tr>\n",
              "      <th>count</th>\n",
              "      <td>11001.00000</td>\n",
              "      <td>18316.000000</td>\n",
              "      <td>18316.000000</td>\n",
              "      <td>18316.000000</td>\n",
              "      <td>18316.000000</td>\n",
              "      <td>18316.000000</td>\n",
              "      <td>18316.000000</td>\n",
              "      <td>17019.000000</td>\n",
              "      <td>17449.000000</td>\n",
              "      <td>18316.000000</td>\n",
              "      <td>6359.000000</td>\n",
              "      <td>0.0</td>\n",
              "      <td>18316.000000</td>\n",
              "      <td>18316.000000</td>\n",
              "      <td>18316.000000</td>\n",
              "      <td>18316.000000</td>\n",
              "      <td>18316.000000</td>\n",
              "      <td>18316.000000</td>\n",
              "      <td>18316.000000</td>\n",
              "    </tr>\n",
              "    <tr>\n",
              "      <th>mean</th>\n",
              "      <td>5501.00000</td>\n",
              "      <td>34.019273</td>\n",
              "      <td>0.076873</td>\n",
              "      <td>4.997052</td>\n",
              "      <td>0.098439</td>\n",
              "      <td>0.124263</td>\n",
              "      <td>3.913191</td>\n",
              "      <td>4.302485</td>\n",
              "      <td>57.694596</td>\n",
              "      <td>0.414774</td>\n",
              "      <td>19.961629</td>\n",
              "      <td>NaN</td>\n",
              "      <td>0.073105</td>\n",
              "      <td>4.997052</td>\n",
              "      <td>4.022822</td>\n",
              "      <td>3.913191</td>\n",
              "      <td>186.394901</td>\n",
              "      <td>625.210636</td>\n",
              "      <td>0.044715</td>\n",
              "    </tr>\n",
              "    <tr>\n",
              "      <th>std</th>\n",
              "      <td>3175.85949</td>\n",
              "      <td>11.667811</td>\n",
              "      <td>0.464272</td>\n",
              "      <td>2.937569</td>\n",
              "      <td>0.517639</td>\n",
              "      <td>0.524537</td>\n",
              "      <td>5.299864</td>\n",
              "      <td>81.159881</td>\n",
              "      <td>317.994694</td>\n",
              "      <td>0.576449</td>\n",
              "      <td>74.139695</td>\n",
              "      <td>NaN</td>\n",
              "      <td>0.260317</td>\n",
              "      <td>2.937569</td>\n",
              "      <td>2.614189</td>\n",
              "      <td>5.299864</td>\n",
              "      <td>283.373004</td>\n",
              "      <td>335.881439</td>\n",
              "      <td>0.206683</td>\n",
              "    </tr>\n",
              "    <tr>\n",
              "      <th>min</th>\n",
              "      <td>1.00000</td>\n",
              "      <td>18.000000</td>\n",
              "      <td>0.000000</td>\n",
              "      <td>-1.000000</td>\n",
              "      <td>0.000000</td>\n",
              "      <td>0.000000</td>\n",
              "      <td>0.000000</td>\n",
              "      <td>-597.000000</td>\n",
              "      <td>0.000000</td>\n",
              "      <td>-1.000000</td>\n",
              "      <td>-1.000000</td>\n",
              "      <td>NaN</td>\n",
              "      <td>0.000000</td>\n",
              "      <td>-1.000000</td>\n",
              "      <td>-1.000000</td>\n",
              "      <td>0.000000</td>\n",
              "      <td>0.000000</td>\n",
              "      <td>0.000000</td>\n",
              "      <td>0.000000</td>\n",
              "    </tr>\n",
              "    <tr>\n",
              "      <th>25%</th>\n",
              "      <td>2751.00000</td>\n",
              "      <td>25.000000</td>\n",
              "      <td>0.000000</td>\n",
              "      <td>2.000000</td>\n",
              "      <td>0.000000</td>\n",
              "      <td>0.000000</td>\n",
              "      <td>0.000000</td>\n",
              "      <td>-1.000000</td>\n",
              "      <td>1.000000</td>\n",
              "      <td>0.000000</td>\n",
              "      <td>0.000000</td>\n",
              "      <td>NaN</td>\n",
              "      <td>0.000000</td>\n",
              "      <td>2.000000</td>\n",
              "      <td>2.000000</td>\n",
              "      <td>0.000000</td>\n",
              "      <td>0.000000</td>\n",
              "      <td>364.000000</td>\n",
              "      <td>0.000000</td>\n",
              "    </tr>\n",
              "    <tr>\n",
              "      <th>50%</th>\n",
              "      <td>5501.00000</td>\n",
              "      <td>31.000000</td>\n",
              "      <td>0.000000</td>\n",
              "      <td>5.000000</td>\n",
              "      <td>0.000000</td>\n",
              "      <td>0.000000</td>\n",
              "      <td>2.000000</td>\n",
              "      <td>-1.000000</td>\n",
              "      <td>1.000000</td>\n",
              "      <td>0.000000</td>\n",
              "      <td>0.000000</td>\n",
              "      <td>NaN</td>\n",
              "      <td>0.000000</td>\n",
              "      <td>5.000000</td>\n",
              "      <td>4.000000</td>\n",
              "      <td>2.000000</td>\n",
              "      <td>7.000000</td>\n",
              "      <td>634.000000</td>\n",
              "      <td>0.000000</td>\n",
              "    </tr>\n",
              "    <tr>\n",
              "      <th>75%</th>\n",
              "      <td>8251.00000</td>\n",
              "      <td>41.000000</td>\n",
              "      <td>0.000000</td>\n",
              "      <td>8.000000</td>\n",
              "      <td>0.000000</td>\n",
              "      <td>0.000000</td>\n",
              "      <td>5.000000</td>\n",
              "      <td>0.000000</td>\n",
              "      <td>2.000000</td>\n",
              "      <td>1.000000</td>\n",
              "      <td>1.000000</td>\n",
              "      <td>NaN</td>\n",
              "      <td>0.000000</td>\n",
              "      <td>8.000000</td>\n",
              "      <td>6.000000</td>\n",
              "      <td>5.000000</td>\n",
              "      <td>309.000000</td>\n",
              "      <td>897.000000</td>\n",
              "      <td>0.000000</td>\n",
              "    </tr>\n",
              "    <tr>\n",
              "      <th>max</th>\n",
              "      <td>11001.00000</td>\n",
              "      <td>96.000000</td>\n",
              "      <td>20.000000</td>\n",
              "      <td>10.000000</td>\n",
              "      <td>13.000000</td>\n",
              "      <td>17.000000</td>\n",
              "      <td>43.000000</td>\n",
              "      <td>1057.000000</td>\n",
              "      <td>9485.000000</td>\n",
              "      <td>1.000000</td>\n",
              "      <td>993.000000</td>\n",
              "      <td>NaN</td>\n",
              "      <td>1.000000</td>\n",
              "      <td>10.000000</td>\n",
              "      <td>10.000000</td>\n",
              "      <td>43.000000</td>\n",
              "      <td>1197.000000</td>\n",
              "      <td>1187.000000</td>\n",
              "      <td>1.000000</td>\n",
              "    </tr>\n",
              "  </tbody>\n",
              "</table>\n",
              "</div>\n",
              "    <div class=\"colab-df-buttons\">\n",
              "\n",
              "  <div class=\"colab-df-container\">\n",
              "    <button class=\"colab-df-convert\" onclick=\"convertToInteractive('df-c1a3172d-6193-45d7-9606-39a39d129ae3')\"\n",
              "            title=\"Convert this dataframe to an interactive table.\"\n",
              "            style=\"display:none;\">\n",
              "\n",
              "  <svg xmlns=\"http://www.w3.org/2000/svg\" height=\"24px\" viewBox=\"0 -960 960 960\">\n",
              "    <path d=\"M120-120v-720h720v720H120Zm60-500h600v-160H180v160Zm220 220h160v-160H400v160Zm0 220h160v-160H400v160ZM180-400h160v-160H180v160Zm440 0h160v-160H620v160ZM180-180h160v-160H180v160Zm440 0h160v-160H620v160Z\"/>\n",
              "  </svg>\n",
              "    </button>\n",
              "\n",
              "  <style>\n",
              "    .colab-df-container {\n",
              "      display:flex;\n",
              "      gap: 12px;\n",
              "    }\n",
              "\n",
              "    .colab-df-convert {\n",
              "      background-color: #E8F0FE;\n",
              "      border: none;\n",
              "      border-radius: 50%;\n",
              "      cursor: pointer;\n",
              "      display: none;\n",
              "      fill: #1967D2;\n",
              "      height: 32px;\n",
              "      padding: 0 0 0 0;\n",
              "      width: 32px;\n",
              "    }\n",
              "\n",
              "    .colab-df-convert:hover {\n",
              "      background-color: #E2EBFA;\n",
              "      box-shadow: 0px 1px 2px rgba(60, 64, 67, 0.3), 0px 1px 3px 1px rgba(60, 64, 67, 0.15);\n",
              "      fill: #174EA6;\n",
              "    }\n",
              "\n",
              "    .colab-df-buttons div {\n",
              "      margin-bottom: 4px;\n",
              "    }\n",
              "\n",
              "    [theme=dark] .colab-df-convert {\n",
              "      background-color: #3B4455;\n",
              "      fill: #D2E3FC;\n",
              "    }\n",
              "\n",
              "    [theme=dark] .colab-df-convert:hover {\n",
              "      background-color: #434B5C;\n",
              "      box-shadow: 0px 1px 3px 1px rgba(0, 0, 0, 0.15);\n",
              "      filter: drop-shadow(0px 1px 2px rgba(0, 0, 0, 0.3));\n",
              "      fill: #FFFFFF;\n",
              "    }\n",
              "  </style>\n",
              "\n",
              "    <script>\n",
              "      const buttonEl =\n",
              "        document.querySelector('#df-c1a3172d-6193-45d7-9606-39a39d129ae3 button.colab-df-convert');\n",
              "      buttonEl.style.display =\n",
              "        google.colab.kernel.accessAllowed ? 'block' : 'none';\n",
              "\n",
              "      async function convertToInteractive(key) {\n",
              "        const element = document.querySelector('#df-c1a3172d-6193-45d7-9606-39a39d129ae3');\n",
              "        const dataTable =\n",
              "          await google.colab.kernel.invokeFunction('convertToInteractive',\n",
              "                                                    [key], {});\n",
              "        if (!dataTable) return;\n",
              "\n",
              "        const docLinkHtml = 'Like what you see? Visit the ' +\n",
              "          '<a target=\"_blank\" href=https://colab.research.google.com/notebooks/data_table.ipynb>data table notebook</a>'\n",
              "          + ' to learn more about interactive tables.';\n",
              "        element.innerHTML = '';\n",
              "        dataTable['output_type'] = 'display_data';\n",
              "        await google.colab.output.renderOutput(dataTable, element);\n",
              "        const docLink = document.createElement('div');\n",
              "        docLink.innerHTML = docLinkHtml;\n",
              "        element.appendChild(docLink);\n",
              "      }\n",
              "    </script>\n",
              "  </div>\n",
              "\n",
              "\n",
              "<div id=\"df-34d338f6-58bc-4daf-8c33-7f80c2fac78d\">\n",
              "  <button class=\"colab-df-quickchart\" onclick=\"quickchart('df-34d338f6-58bc-4daf-8c33-7f80c2fac78d')\"\n",
              "            title=\"Suggest charts\"\n",
              "            style=\"display:none;\">\n",
              "\n",
              "<svg xmlns=\"http://www.w3.org/2000/svg\" height=\"24px\"viewBox=\"0 0 24 24\"\n",
              "     width=\"24px\">\n",
              "    <g>\n",
              "        <path d=\"M19 3H5c-1.1 0-2 .9-2 2v14c0 1.1.9 2 2 2h14c1.1 0 2-.9 2-2V5c0-1.1-.9-2-2-2zM9 17H7v-7h2v7zm4 0h-2V7h2v10zm4 0h-2v-4h2v4z\"/>\n",
              "    </g>\n",
              "</svg>\n",
              "  </button>\n",
              "\n",
              "<style>\n",
              "  .colab-df-quickchart {\n",
              "      --bg-color: #E8F0FE;\n",
              "      --fill-color: #1967D2;\n",
              "      --hover-bg-color: #E2EBFA;\n",
              "      --hover-fill-color: #174EA6;\n",
              "      --disabled-fill-color: #AAA;\n",
              "      --disabled-bg-color: #DDD;\n",
              "  }\n",
              "\n",
              "  [theme=dark] .colab-df-quickchart {\n",
              "      --bg-color: #3B4455;\n",
              "      --fill-color: #D2E3FC;\n",
              "      --hover-bg-color: #434B5C;\n",
              "      --hover-fill-color: #FFFFFF;\n",
              "      --disabled-bg-color: #3B4455;\n",
              "      --disabled-fill-color: #666;\n",
              "  }\n",
              "\n",
              "  .colab-df-quickchart {\n",
              "    background-color: var(--bg-color);\n",
              "    border: none;\n",
              "    border-radius: 50%;\n",
              "    cursor: pointer;\n",
              "    display: none;\n",
              "    fill: var(--fill-color);\n",
              "    height: 32px;\n",
              "    padding: 0;\n",
              "    width: 32px;\n",
              "  }\n",
              "\n",
              "  .colab-df-quickchart:hover {\n",
              "    background-color: var(--hover-bg-color);\n",
              "    box-shadow: 0 1px 2px rgba(60, 64, 67, 0.3), 0 1px 3px 1px rgba(60, 64, 67, 0.15);\n",
              "    fill: var(--button-hover-fill-color);\n",
              "  }\n",
              "\n",
              "  .colab-df-quickchart-complete:disabled,\n",
              "  .colab-df-quickchart-complete:disabled:hover {\n",
              "    background-color: var(--disabled-bg-color);\n",
              "    fill: var(--disabled-fill-color);\n",
              "    box-shadow: none;\n",
              "  }\n",
              "\n",
              "  .colab-df-spinner {\n",
              "    border: 2px solid var(--fill-color);\n",
              "    border-color: transparent;\n",
              "    border-bottom-color: var(--fill-color);\n",
              "    animation:\n",
              "      spin 1s steps(1) infinite;\n",
              "  }\n",
              "\n",
              "  @keyframes spin {\n",
              "    0% {\n",
              "      border-color: transparent;\n",
              "      border-bottom-color: var(--fill-color);\n",
              "      border-left-color: var(--fill-color);\n",
              "    }\n",
              "    20% {\n",
              "      border-color: transparent;\n",
              "      border-left-color: var(--fill-color);\n",
              "      border-top-color: var(--fill-color);\n",
              "    }\n",
              "    30% {\n",
              "      border-color: transparent;\n",
              "      border-left-color: var(--fill-color);\n",
              "      border-top-color: var(--fill-color);\n",
              "      border-right-color: var(--fill-color);\n",
              "    }\n",
              "    40% {\n",
              "      border-color: transparent;\n",
              "      border-right-color: var(--fill-color);\n",
              "      border-top-color: var(--fill-color);\n",
              "    }\n",
              "    60% {\n",
              "      border-color: transparent;\n",
              "      border-right-color: var(--fill-color);\n",
              "    }\n",
              "    80% {\n",
              "      border-color: transparent;\n",
              "      border-right-color: var(--fill-color);\n",
              "      border-bottom-color: var(--fill-color);\n",
              "    }\n",
              "    90% {\n",
              "      border-color: transparent;\n",
              "      border-bottom-color: var(--fill-color);\n",
              "    }\n",
              "  }\n",
              "</style>\n",
              "\n",
              "  <script>\n",
              "    async function quickchart(key) {\n",
              "      const quickchartButtonEl =\n",
              "        document.querySelector('#' + key + ' button');\n",
              "      quickchartButtonEl.disabled = true;  // To prevent multiple clicks.\n",
              "      quickchartButtonEl.classList.add('colab-df-spinner');\n",
              "      try {\n",
              "        const charts = await google.colab.kernel.invokeFunction(\n",
              "            'suggestCharts', [key], {});\n",
              "      } catch (error) {\n",
              "        console.error('Error during call to suggestCharts:', error);\n",
              "      }\n",
              "      quickchartButtonEl.classList.remove('colab-df-spinner');\n",
              "      quickchartButtonEl.classList.add('colab-df-quickchart-complete');\n",
              "    }\n",
              "    (() => {\n",
              "      let quickchartButtonEl =\n",
              "        document.querySelector('#df-34d338f6-58bc-4daf-8c33-7f80c2fac78d button');\n",
              "      quickchartButtonEl.style.display =\n",
              "        google.colab.kernel.accessAllowed ? 'block' : 'none';\n",
              "    })();\n",
              "  </script>\n",
              "</div>\n",
              "\n",
              "    </div>\n",
              "  </div>\n"
            ],
            "application/vnd.google.colaboratory.intrinsic+json": {
              "type": "dataframe",
              "summary": "{\n  \"name\": \"data\",\n  \"rows\": 8,\n  \"fields\": [\n    {\n      \"column\": \"id\",\n      \"properties\": {\n        \"dtype\": \"number\",\n        \"std\": 3964.508829130555,\n        \"min\": 1.0,\n        \"max\": 11001.0,\n        \"num_unique_values\": 6,\n        \"samples\": [\n          11001.0,\n          5501.0,\n          8251.0\n        ],\n        \"semantic_type\": \"\",\n        \"description\": \"\"\n      }\n    },\n    {\n      \"column\": \"age\",\n      \"properties\": {\n        \"dtype\": \"number\",\n        \"std\": 6462.771058236541,\n        \"min\": 11.667811331966467,\n        \"max\": 18316.0,\n        \"num_unique_values\": 8,\n        \"samples\": [\n          34.01927276697969,\n          31.0,\n          18316.0\n        ],\n        \"semantic_type\": \"\",\n        \"description\": \"\"\n      }\n    },\n    {\n      \"column\": \"juv_fel_count\",\n      \"properties\": {\n        \"dtype\": \"number\",\n        \"std\": 6474.650167930933,\n        \"min\": 0.0,\n        \"max\": 18316.0,\n        \"num_unique_values\": 5,\n        \"samples\": [\n          0.07687267962437214,\n          20.0,\n          0.46427156916092005\n        ],\n        \"semantic_type\": \"\",\n        \"description\": \"\"\n      }\n    },\n    {\n      \"column\": \"decile_score\",\n      \"properties\": {\n        \"dtype\": \"number\",\n        \"std\": 6474.07186391509,\n        \"min\": -1.0,\n        \"max\": 18316.0,\n        \"num_unique_values\": 8,\n        \"samples\": [\n          4.99705175802577,\n          5.0,\n          18316.0\n        ],\n        \"semantic_type\": \"\",\n        \"description\": \"\"\n      }\n    },\n    {\n      \"column\": \"juv_misd_count\",\n      \"properties\": {\n        \"dtype\": \"number\",\n        \"std\": 6474.9977615206035,\n        \"min\": 0.0,\n        \"max\": 18316.0,\n        \"num_unique_values\": 5,\n        \"samples\": [\n          0.09843852369512994,\n          13.0,\n          0.5176394552308267\n        ],\n        \"semantic_type\": \"\",\n        \"description\": \"\"\n      }\n    },\n    {\n      \"column\": \"juv_other_count\",\n      \"properties\": {\n        \"dtype\": \"number\",\n        \"std\": 6474.795203593125,\n        \"min\": 0.0,\n        \"max\": 18316.0,\n        \"num_unique_values\": 5,\n        \"samples\": [\n          0.12426293950644246,\n          17.0,\n          0.5245372907163794\n        ],\n        \"semantic_type\": \"\",\n        \"description\": \"\"\n      }\n    },\n    {\n      \"column\": \"priors_count\",\n      \"properties\": {\n        \"dtype\": \"number\",\n        \"std\": 6472.7088671318015,\n        \"min\": 0.0,\n        \"max\": 18316.0,\n        \"num_unique_values\": 7,\n        \"samples\": [\n          18316.0,\n          3.913190652981,\n          5.0\n        ],\n        \"semantic_type\": \"\",\n        \"description\": \"\"\n      }\n    },\n    {\n      \"column\": \"days_b_screening_arrest\",\n      \"properties\": {\n        \"dtype\": \"number\",\n        \"std\": 6006.80109648357,\n        \"min\": -597.0,\n        \"max\": 17019.0,\n        \"num_unique_values\": 7,\n        \"samples\": [\n          17019.0,\n          4.302485457429931,\n          0.0\n        ],\n        \"semantic_type\": \"\",\n        \"description\": \"\"\n      }\n    },\n    {\n      \"column\": \"c_days_from_compas\",\n      \"properties\": {\n        \"dtype\": \"number\",\n        \"std\": 6560.51586020939,\n        \"min\": 0.0,\n        \"max\": 17449.0,\n        \"num_unique_values\": 7,\n        \"samples\": [\n          17449.0,\n          57.69459567883546,\n          2.0\n        ],\n        \"semantic_type\": \"\",\n        \"description\": \"\"\n      }\n    },\n    {\n      \"column\": \"is_recid\",\n      \"properties\": {\n        \"dtype\": \"number\",\n        \"std\": 6475.583362547164,\n        \"min\": -1.0,\n        \"max\": 18316.0,\n        \"num_unique_values\": 6,\n        \"samples\": [\n          18316.0,\n          0.41477396811530903,\n          1.0\n        ],\n        \"semantic_type\": \"\",\n        \"description\": \"\"\n      }\n    },\n    {\n      \"column\": \"r_days_from_arrest\",\n      \"properties\": {\n        \"dtype\": \"number\",\n        \"std\": 2219.9830773201434,\n        \"min\": -1.0,\n        \"max\": 6359.0,\n        \"num_unique_values\": 7,\n        \"samples\": [\n          6359.0,\n          19.961629186979085,\n          1.0\n        ],\n        \"semantic_type\": \"\",\n        \"description\": \"\"\n      }\n    },\n    {\n      \"column\": \"violent_recid\",\n      \"properties\": {\n        \"dtype\": \"number\",\n        \"std\": null,\n        \"min\": 0.0,\n        \"max\": 0.0,\n        \"num_unique_values\": 1,\n        \"samples\": [\n          0.0\n        ],\n        \"semantic_type\": \"\",\n        \"description\": \"\"\n      }\n    },\n    {\n      \"column\": \"is_violent_recid\",\n      \"properties\": {\n        \"dtype\": \"number\",\n        \"std\": 6475.616563152389,\n        \"min\": 0.0,\n        \"max\": 18316.0,\n        \"num_unique_values\": 5,\n        \"samples\": [\n          0.07310548154618912\n        ],\n        \"semantic_type\": \"\",\n        \"description\": \"\"\n      }\n    },\n    {\n      \"column\": \"decile_score.1\",\n      \"properties\": {\n        \"dtype\": \"number\",\n        \"std\": 6474.07186391509,\n        \"min\": -1.0,\n        \"max\": 18316.0,\n        \"num_unique_values\": 8,\n        \"samples\": [\n          4.99705175802577\n        ],\n        \"semantic_type\": \"\",\n        \"description\": \"\"\n      }\n    },\n    {\n      \"column\": \"v_decile_score\",\n      \"properties\": {\n        \"dtype\": \"number\",\n        \"std\": 6474.28880449569,\n        \"min\": -1.0,\n        \"max\": 18316.0,\n        \"num_unique_values\": 8,\n        \"samples\": [\n          4.022821576763485\n        ],\n        \"semantic_type\": \"\",\n        \"description\": \"\"\n      }\n    },\n    {\n      \"column\": \"priors_count.1\",\n      \"properties\": {\n        \"dtype\": \"number\",\n        \"std\": 6472.7088671318015,\n        \"min\": 0.0,\n        \"max\": 18316.0,\n        \"num_unique_values\": 7,\n        \"samples\": [\n          18316.0\n        ],\n        \"semantic_type\": \"\",\n        \"description\": \"\"\n      }\n    },\n    {\n      \"column\": \"start\",\n      \"properties\": {\n        \"dtype\": \"number\",\n        \"std\": 6387.647018289116,\n        \"min\": 0.0,\n        \"max\": 18316.0,\n        \"num_unique_values\": 7,\n        \"samples\": [\n          18316.0\n        ],\n        \"semantic_type\": \"\",\n        \"description\": \"\"\n      }\n    },\n    {\n      \"column\": \"end\",\n      \"properties\": {\n        \"dtype\": \"number\",\n        \"std\": 6281.906738289405,\n        \"min\": 0.0,\n        \"max\": 18316.0,\n        \"num_unique_values\": 8,\n        \"samples\": [\n          625.2106355099367\n        ],\n        \"semantic_type\": \"\",\n        \"description\": \"\"\n      }\n    },\n    {\n      \"column\": \"event\",\n      \"properties\": {\n        \"dtype\": \"number\",\n        \"std\": 6475.620706013446,\n        \"min\": 0.0,\n        \"max\": 18316.0,\n        \"num_unique_values\": 5,\n        \"samples\": [\n          0.044715003275824415\n        ],\n        \"semantic_type\": \"\",\n        \"description\": \"\"\n      }\n    }\n  ]\n}"
            }
          },
          "metadata": {},
          "execution_count": 108
        }
      ]
    },
    {
      "cell_type": "code",
      "source": [
        "data.isnull().sum()"
      ],
      "metadata": {
        "colab": {
          "base_uri": "https://localhost:8080/"
        },
        "id": "q6BzFyDmS33z",
        "outputId": "fc89d2e3-3dad-4e81-fa14-cc062b5c19cd"
      },
      "execution_count": 109,
      "outputs": [
        {
          "output_type": "execute_result",
          "data": {
            "text/plain": [
              "id                          7315\n",
              "name                           0\n",
              "first                          0\n",
              "last                           0\n",
              "compas_screening_date          0\n",
              "sex                            0\n",
              "dob                            0\n",
              "age                            0\n",
              "age_cat                        0\n",
              "race                           0\n",
              "juv_fel_count                  0\n",
              "decile_score                   0\n",
              "juv_misd_count                 0\n",
              "juv_other_count                0\n",
              "priors_count                   0\n",
              "days_b_screening_arrest     1297\n",
              "c_jail_in                   1297\n",
              "c_jail_out                  1297\n",
              "c_case_number                867\n",
              "c_offense_date              3952\n",
              "c_arrest_date              15231\n",
              "c_days_from_compas           867\n",
              "c_charge_degree              867\n",
              "c_charge_desc                881\n",
              "is_recid                       0\n",
              "r_case_number               9899\n",
              "r_charge_degree             9899\n",
              "r_days_from_arrest         11957\n",
              "r_offense_date              9899\n",
              "r_charge_desc              10039\n",
              "r_jail_in                  11957\n",
              "r_jail_out                 11957\n",
              "violent_recid              18316\n",
              "is_violent_recid               0\n",
              "vr_case_number             16977\n",
              "vr_charge_degree           16977\n",
              "vr_offense_date            16977\n",
              "vr_charge_desc             16977\n",
              "type_of_assessment             0\n",
              "decile_score.1                 0\n",
              "score_text                    23\n",
              "screening_date                 0\n",
              "v_type_of_assessment           0\n",
              "v_decile_score                 0\n",
              "v_score_text                   6\n",
              "v_screening_date               0\n",
              "in_custody                   594\n",
              "out_custody                  594\n",
              "priors_count.1                 0\n",
              "start                          0\n",
              "end                            0\n",
              "event                          0\n",
              "dtype: int64"
            ]
          },
          "metadata": {},
          "execution_count": 109
        }
      ]
    },
    {
      "cell_type": "code",
      "source": [
        "# Proportion of ground truth recid samples :\n",
        "data[\"is_recid\"].value_counts()"
      ],
      "metadata": {
        "colab": {
          "base_uri": "https://localhost:8080/"
        },
        "id": "DrwrkPWDS-mF",
        "outputId": "87d69945-b946-48a5-9f66-5dadf4f021f2"
      },
      "execution_count": 110,
      "outputs": [
        {
          "output_type": "execute_result",
          "data": {
            "text/plain": [
              "is_recid\n",
              " 0    9079\n",
              " 1    8417\n",
              "-1     820\n",
              "Name: count, dtype: int64"
            ]
          },
          "metadata": {},
          "execution_count": 110
        }
      ]
    },
    {
      "cell_type": "code",
      "source": [
        "# Proportion of compas score samples :\n",
        "data[\"decile_score\"].value_counts()"
      ],
      "metadata": {
        "colab": {
          "base_uri": "https://localhost:8080/"
        },
        "id": "z1NqxXBFSRGH",
        "outputId": "e652be30-80dd-4723-c25f-6342654ada7c"
      },
      "execution_count": 111,
      "outputs": [
        {
          "output_type": "execute_result",
          "data": {
            "text/plain": [
              "decile_score\n",
              " 1     2923\n",
              " 2     2031\n",
              " 4     1830\n",
              " 3     1813\n",
              " 7     1720\n",
              " 6     1713\n",
              " 9     1670\n",
              " 5     1649\n",
              " 8     1614\n",
              " 10    1330\n",
              "-1       23\n",
              "Name: count, dtype: int64"
            ]
          },
          "metadata": {},
          "execution_count": 111
        }
      ]
    },
    {
      "cell_type": "code",
      "source": [
        "# Drop of -1 values\n",
        "data = data[data[\"decile_score\"] != -1]"
      ],
      "metadata": {
        "id": "fEn14IlnSZbT"
      },
      "execution_count": 112,
      "outputs": []
    },
    {
      "cell_type": "code",
      "source": [
        "# Proportion of compas score samples [no -1]\n",
        "data[\"decile_score\"].value_counts()"
      ],
      "metadata": {
        "colab": {
          "base_uri": "https://localhost:8080/"
        },
        "id": "34b0f6z-SeLA",
        "outputId": "be72d1fd-4a68-4b67-beb1-8bfc8d384e17"
      },
      "execution_count": 113,
      "outputs": [
        {
          "output_type": "execute_result",
          "data": {
            "text/plain": [
              "decile_score\n",
              "1     2923\n",
              "2     2031\n",
              "4     1830\n",
              "3     1813\n",
              "7     1720\n",
              "6     1713\n",
              "9     1670\n",
              "5     1649\n",
              "8     1614\n",
              "10    1330\n",
              "Name: count, dtype: int64"
            ]
          },
          "metadata": {},
          "execution_count": 113
        }
      ]
    },
    {
      "cell_type": "code",
      "source": [
        "# Not needed variables\n",
        "columns_to_drop = ['id', 'first', 'last', 'in_custody', 'vr_charge_desc', 'r_case_number', 'vr_charge_degree',\n",
        "                   'c_offense_date', 'c_case_number', 'r_offense_date', 'juv_other_count', 'end', 'event',\n",
        "                   'screening_date', 'start', 'juv_misd_count', 'juv_fel_count', 'r_days_from_arrest',\n",
        "                   'r_charge_degree', 'days_b_screening_arrest', 'vr_case_number', 'priors_count.1', 'r_jail_out',\n",
        "                   'c_arrest_date', 'r_charge_desc', 'r_jail_in', 'violent_recid', 'decile_score.1',\n",
        "                   'vr_offense_date', 'out_custody']\n",
        "\n",
        "data.drop(columns=columns_to_drop, axis=1, inplace=True, errors='ignore')"
      ],
      "metadata": {
        "id": "bnx89cB27dih"
      },
      "execution_count": 114,
      "outputs": []
    },
    {
      "cell_type": "code",
      "source": [
        "data.columns"
      ],
      "metadata": {
        "colab": {
          "base_uri": "https://localhost:8080/"
        },
        "id": "dzsrTaibGG3R",
        "outputId": "983a4dc2-23fc-4941-edc4-b81427d6f315"
      },
      "execution_count": 115,
      "outputs": [
        {
          "output_type": "execute_result",
          "data": {
            "text/plain": [
              "Index(['name', 'compas_screening_date', 'sex', 'dob', 'age', 'age_cat', 'race',\n",
              "       'decile_score', 'priors_count', 'c_jail_in', 'c_jail_out',\n",
              "       'c_days_from_compas', 'c_charge_degree', 'c_charge_desc', 'is_recid',\n",
              "       'is_violent_recid', 'type_of_assessment', 'score_text',\n",
              "       'v_type_of_assessment', 'v_decile_score', 'v_score_text',\n",
              "       'v_screening_date'],\n",
              "      dtype='object')"
            ]
          },
          "metadata": {},
          "execution_count": 115
        }
      ]
    },
    {
      "cell_type": "code",
      "source": [
        "# Date format\n",
        "\n",
        "data['c_jail_in'] = pd.to_datetime(data['c_jail_in'])\n",
        "data['c_jail_out'] = pd.to_datetime(data['c_jail_out'])\n",
        "data['compas_screening_date'] = pd.to_datetime(data['compas_screening_date'])\n",
        "data['v_screening_date'] = pd.to_datetime(data['v_screening_date'])\n",
        "data['days_in_jail'] = abs((data['c_jail_out'] - data['c_jail_in']).dt.days)"
      ],
      "metadata": {
        "colab": {
          "base_uri": "https://localhost:8080/"
        },
        "id": "I7uTOF9HGLEA",
        "outputId": "8513dbd6-1e2b-4c5a-deb7-682ef51591b0"
      },
      "execution_count": 116,
      "outputs": [
        {
          "output_type": "stream",
          "name": "stderr",
          "text": [
            "<ipython-input-116-59e902b9847f>:3: UserWarning: Parsing dates in %d/%m/%Y %H:%M format when dayfirst=False (the default) was specified. Pass `dayfirst=True` or specify a format to silence this warning.\n",
            "  data['c_jail_in'] = pd.to_datetime(data['c_jail_in'])\n",
            "<ipython-input-116-59e902b9847f>:4: UserWarning: Parsing dates in %d/%m/%Y %H:%M format when dayfirst=False (the default) was specified. Pass `dayfirst=True` or specify a format to silence this warning.\n",
            "  data['c_jail_out'] = pd.to_datetime(data['c_jail_out'])\n",
            "<ipython-input-116-59e902b9847f>:5: UserWarning: Parsing dates in %d/%m/%Y format when dayfirst=False (the default) was specified. Pass `dayfirst=True` or specify a format to silence this warning.\n",
            "  data['compas_screening_date'] = pd.to_datetime(data['compas_screening_date'])\n",
            "<ipython-input-116-59e902b9847f>:6: UserWarning: Parsing dates in %d/%m/%Y format when dayfirst=False (the default) was specified. Pass `dayfirst=True` or specify a format to silence this warning.\n",
            "  data['v_screening_date'] = pd.to_datetime(data['v_screening_date'])\n"
          ]
        }
      ]
    },
    {
      "cell_type": "code",
      "source": [
        "# Checking change of date types\n",
        "data.info()"
      ],
      "metadata": {
        "colab": {
          "base_uri": "https://localhost:8080/"
        },
        "id": "5Xw1ABKuG_Nv",
        "outputId": "26f67568-fc96-4905-b601-74d5eb98d654"
      },
      "execution_count": 117,
      "outputs": [
        {
          "output_type": "stream",
          "name": "stdout",
          "text": [
            "<class 'pandas.core.frame.DataFrame'>\n",
            "Index: 18293 entries, 0 to 18315\n",
            "Data columns (total 23 columns):\n",
            " #   Column                 Non-Null Count  Dtype         \n",
            "---  ------                 --------------  -----         \n",
            " 0   name                   18293 non-null  object        \n",
            " 1   compas_screening_date  18293 non-null  datetime64[ns]\n",
            " 2   sex                    18293 non-null  object        \n",
            " 3   dob                    18293 non-null  object        \n",
            " 4   age                    18293 non-null  int64         \n",
            " 5   age_cat                18293 non-null  object        \n",
            " 6   race                   18293 non-null  object        \n",
            " 7   decile_score           18293 non-null  int64         \n",
            " 8   priors_count           18293 non-null  int64         \n",
            " 9   c_jail_in              17004 non-null  datetime64[ns]\n",
            " 10  c_jail_out             17004 non-null  datetime64[ns]\n",
            " 11  c_days_from_compas     17432 non-null  float64       \n",
            " 12  c_charge_degree        17432 non-null  object        \n",
            " 13  c_charge_desc          17418 non-null  object        \n",
            " 14  is_recid               18293 non-null  int64         \n",
            " 15  is_violent_recid       18293 non-null  int64         \n",
            " 16  type_of_assessment     18293 non-null  object        \n",
            " 17  score_text             18293 non-null  object        \n",
            " 18  v_type_of_assessment   18293 non-null  object        \n",
            " 19  v_decile_score         18293 non-null  int64         \n",
            " 20  v_score_text           18293 non-null  object        \n",
            " 21  v_screening_date       18293 non-null  datetime64[ns]\n",
            " 22  days_in_jail           17004 non-null  float64       \n",
            "dtypes: datetime64[ns](4), float64(2), int64(6), object(11)\n",
            "memory usage: 3.3+ MB\n"
          ]
        }
      ]
    },
    {
      "cell_type": "code",
      "source": [
        "# Null values of dropped data\n",
        "print(\"The sum of Null values in each columns \")\n",
        "data.isnull().sum()"
      ],
      "metadata": {
        "colab": {
          "base_uri": "https://localhost:8080/"
        },
        "id": "CRVSzmU2HNRC",
        "outputId": "93f433cd-fd4b-4256-c4f3-57125ccda6e6"
      },
      "execution_count": 118,
      "outputs": [
        {
          "output_type": "stream",
          "name": "stdout",
          "text": [
            "The sum of Null values in each columns \n"
          ]
        },
        {
          "output_type": "execute_result",
          "data": {
            "text/plain": [
              "name                        0\n",
              "compas_screening_date       0\n",
              "sex                         0\n",
              "dob                         0\n",
              "age                         0\n",
              "age_cat                     0\n",
              "race                        0\n",
              "decile_score                0\n",
              "priors_count                0\n",
              "c_jail_in                1289\n",
              "c_jail_out               1289\n",
              "c_days_from_compas        861\n",
              "c_charge_degree           861\n",
              "c_charge_desc             875\n",
              "is_recid                    0\n",
              "is_violent_recid            0\n",
              "type_of_assessment          0\n",
              "score_text                  0\n",
              "v_type_of_assessment        0\n",
              "v_decile_score              0\n",
              "v_score_text                0\n",
              "v_screening_date            0\n",
              "days_in_jail             1289\n",
              "dtype: int64"
            ]
          },
          "metadata": {},
          "execution_count": 118
        }
      ]
    },
    {
      "cell_type": "code",
      "source": [
        "# Imputing null values techniques :\n",
        "# Median\n",
        "numeric_cols = ['c_days_from_compas', 'v_decile_score',]\n",
        "for col in numeric_cols:\n",
        "    data[col].fillna(data[col].median(), inplace=True)\n",
        "\n",
        "# Impute missing values for categorical variables with the mode\n",
        "categorical_cols = ['c_charge_degree', 'score_text', 'v_score_text', 'c_jail_in', 'c_jail_out', 'c_charge_desc', 'days_in_jail']\n",
        "for col in categorical_cols:\n",
        "    data[col].fillna(data[col].mode()[0], inplace=True)\n",
        "\n",
        "# Checking for any missing values remaining\n",
        "print(data.isnull().sum())"
      ],
      "metadata": {
        "colab": {
          "base_uri": "https://localhost:8080/"
        },
        "id": "M3Orz14RHS_I",
        "outputId": "4f51a691-a126-4618-eff9-8a9db3cb18fd"
      },
      "execution_count": 119,
      "outputs": [
        {
          "output_type": "stream",
          "name": "stdout",
          "text": [
            "name                     0\n",
            "compas_screening_date    0\n",
            "sex                      0\n",
            "dob                      0\n",
            "age                      0\n",
            "age_cat                  0\n",
            "race                     0\n",
            "decile_score             0\n",
            "priors_count             0\n",
            "c_jail_in                0\n",
            "c_jail_out               0\n",
            "c_days_from_compas       0\n",
            "c_charge_degree          0\n",
            "c_charge_desc            0\n",
            "is_recid                 0\n",
            "is_violent_recid         0\n",
            "type_of_assessment       0\n",
            "score_text               0\n",
            "v_type_of_assessment     0\n",
            "v_decile_score           0\n",
            "v_score_text             0\n",
            "v_screening_date         0\n",
            "days_in_jail             0\n",
            "dtype: int64\n"
          ]
        }
      ]
    },
    {
      "cell_type": "code",
      "source": [
        "# Statistics of new data\n",
        "data.describe()"
      ],
      "metadata": {
        "colab": {
          "base_uri": "https://localhost:8080/",
          "height": 424
        },
        "id": "nYVSfclhHnk6",
        "outputId": "6746c646-88ff-4445-ccae-923358896ae1"
      },
      "execution_count": 120,
      "outputs": [
        {
          "output_type": "execute_result",
          "data": {
            "text/plain": [
              "               compas_screening_date           age  decile_score  \\\n",
              "count                          18293  18293.000000  18293.000000   \n",
              "mean   2013-11-23 01:43:12.007871744     34.010605      5.004592   \n",
              "min              2013-01-01 00:00:00     18.000000      1.000000   \n",
              "25%              2013-04-22 00:00:00     25.000000      2.000000   \n",
              "50%              2013-11-09 00:00:00     31.000000      5.000000   \n",
              "75%              2014-05-29 00:00:00     41.000000      8.000000   \n",
              "max              2014-12-31 00:00:00     96.000000     10.000000   \n",
              "std                              NaN     11.661140      2.931703   \n",
              "\n",
              "       priors_count                      c_jail_in  \\\n",
              "count  18293.000000                          18293   \n",
              "mean       3.916689  2013-11-06 23:32:16.225878784   \n",
              "min        0.000000            2013-01-01 01:31:00   \n",
              "25%        0.000000            2013-03-30 03:21:00   \n",
              "50%        2.000000            2013-10-18 09:30:00   \n",
              "75%        5.000000            2014-05-15 10:48:00   \n",
              "max       43.000000            2016-03-11 10:26:00   \n",
              "std        5.302139                            NaN   \n",
              "\n",
              "                          c_jail_out  c_days_from_compas      is_recid  \\\n",
              "count                          18293        18293.000000  18293.000000   \n",
              "mean   2013-12-06 16:26:17.885529856           54.948232      0.415241   \n",
              "min              2013-01-02 01:12:00            0.000000     -1.000000   \n",
              "25%              2013-04-30 07:29:00            1.000000      0.000000   \n",
              "50%              2013-11-13 01:01:00            1.000000      0.000000   \n",
              "75%              2014-06-10 07:56:00            2.000000      1.000000   \n",
              "max              2020-01-01 00:00:00         9485.000000      1.000000   \n",
              "std                              NaN          310.686935      0.576047   \n",
              "\n",
              "       is_violent_recid  v_decile_score               v_screening_date  \\\n",
              "count      18293.000000    18293.000000                          18293   \n",
              "mean           0.073197        4.023780  2013-11-23 01:43:12.007871744   \n",
              "min            0.000000        1.000000            2013-01-01 00:00:00   \n",
              "25%            0.000000        2.000000            2013-04-22 00:00:00   \n",
              "50%            0.000000        4.000000            2013-11-09 00:00:00   \n",
              "75%            0.000000        6.000000            2014-05-29 00:00:00   \n",
              "max            1.000000       10.000000            2014-12-31 00:00:00   \n",
              "std            0.260467        2.613346                            NaN   \n",
              "\n",
              "       days_in_jail  \n",
              "count  18293.000000  \n",
              "mean      23.306839  \n",
              "min        0.000000  \n",
              "25%        0.000000  \n",
              "50%        1.000000  \n",
              "75%       14.000000  \n",
              "max     2152.000000  \n",
              "std       64.942729  "
            ],
            "text/html": [
              "\n",
              "  <div id=\"df-2a6db1ba-9c75-4bba-9331-b3dfce7d14ba\" class=\"colab-df-container\">\n",
              "    <div>\n",
              "<style scoped>\n",
              "    .dataframe tbody tr th:only-of-type {\n",
              "        vertical-align: middle;\n",
              "    }\n",
              "\n",
              "    .dataframe tbody tr th {\n",
              "        vertical-align: top;\n",
              "    }\n",
              "\n",
              "    .dataframe thead th {\n",
              "        text-align: right;\n",
              "    }\n",
              "</style>\n",
              "<table border=\"1\" class=\"dataframe\">\n",
              "  <thead>\n",
              "    <tr style=\"text-align: right;\">\n",
              "      <th></th>\n",
              "      <th>compas_screening_date</th>\n",
              "      <th>age</th>\n",
              "      <th>decile_score</th>\n",
              "      <th>priors_count</th>\n",
              "      <th>c_jail_in</th>\n",
              "      <th>c_jail_out</th>\n",
              "      <th>c_days_from_compas</th>\n",
              "      <th>is_recid</th>\n",
              "      <th>is_violent_recid</th>\n",
              "      <th>v_decile_score</th>\n",
              "      <th>v_screening_date</th>\n",
              "      <th>days_in_jail</th>\n",
              "    </tr>\n",
              "  </thead>\n",
              "  <tbody>\n",
              "    <tr>\n",
              "      <th>count</th>\n",
              "      <td>18293</td>\n",
              "      <td>18293.000000</td>\n",
              "      <td>18293.000000</td>\n",
              "      <td>18293.000000</td>\n",
              "      <td>18293</td>\n",
              "      <td>18293</td>\n",
              "      <td>18293.000000</td>\n",
              "      <td>18293.000000</td>\n",
              "      <td>18293.000000</td>\n",
              "      <td>18293.000000</td>\n",
              "      <td>18293</td>\n",
              "      <td>18293.000000</td>\n",
              "    </tr>\n",
              "    <tr>\n",
              "      <th>mean</th>\n",
              "      <td>2013-11-23 01:43:12.007871744</td>\n",
              "      <td>34.010605</td>\n",
              "      <td>5.004592</td>\n",
              "      <td>3.916689</td>\n",
              "      <td>2013-11-06 23:32:16.225878784</td>\n",
              "      <td>2013-12-06 16:26:17.885529856</td>\n",
              "      <td>54.948232</td>\n",
              "      <td>0.415241</td>\n",
              "      <td>0.073197</td>\n",
              "      <td>4.023780</td>\n",
              "      <td>2013-11-23 01:43:12.007871744</td>\n",
              "      <td>23.306839</td>\n",
              "    </tr>\n",
              "    <tr>\n",
              "      <th>min</th>\n",
              "      <td>2013-01-01 00:00:00</td>\n",
              "      <td>18.000000</td>\n",
              "      <td>1.000000</td>\n",
              "      <td>0.000000</td>\n",
              "      <td>2013-01-01 01:31:00</td>\n",
              "      <td>2013-01-02 01:12:00</td>\n",
              "      <td>0.000000</td>\n",
              "      <td>-1.000000</td>\n",
              "      <td>0.000000</td>\n",
              "      <td>1.000000</td>\n",
              "      <td>2013-01-01 00:00:00</td>\n",
              "      <td>0.000000</td>\n",
              "    </tr>\n",
              "    <tr>\n",
              "      <th>25%</th>\n",
              "      <td>2013-04-22 00:00:00</td>\n",
              "      <td>25.000000</td>\n",
              "      <td>2.000000</td>\n",
              "      <td>0.000000</td>\n",
              "      <td>2013-03-30 03:21:00</td>\n",
              "      <td>2013-04-30 07:29:00</td>\n",
              "      <td>1.000000</td>\n",
              "      <td>0.000000</td>\n",
              "      <td>0.000000</td>\n",
              "      <td>2.000000</td>\n",
              "      <td>2013-04-22 00:00:00</td>\n",
              "      <td>0.000000</td>\n",
              "    </tr>\n",
              "    <tr>\n",
              "      <th>50%</th>\n",
              "      <td>2013-11-09 00:00:00</td>\n",
              "      <td>31.000000</td>\n",
              "      <td>5.000000</td>\n",
              "      <td>2.000000</td>\n",
              "      <td>2013-10-18 09:30:00</td>\n",
              "      <td>2013-11-13 01:01:00</td>\n",
              "      <td>1.000000</td>\n",
              "      <td>0.000000</td>\n",
              "      <td>0.000000</td>\n",
              "      <td>4.000000</td>\n",
              "      <td>2013-11-09 00:00:00</td>\n",
              "      <td>1.000000</td>\n",
              "    </tr>\n",
              "    <tr>\n",
              "      <th>75%</th>\n",
              "      <td>2014-05-29 00:00:00</td>\n",
              "      <td>41.000000</td>\n",
              "      <td>8.000000</td>\n",
              "      <td>5.000000</td>\n",
              "      <td>2014-05-15 10:48:00</td>\n",
              "      <td>2014-06-10 07:56:00</td>\n",
              "      <td>2.000000</td>\n",
              "      <td>1.000000</td>\n",
              "      <td>0.000000</td>\n",
              "      <td>6.000000</td>\n",
              "      <td>2014-05-29 00:00:00</td>\n",
              "      <td>14.000000</td>\n",
              "    </tr>\n",
              "    <tr>\n",
              "      <th>max</th>\n",
              "      <td>2014-12-31 00:00:00</td>\n",
              "      <td>96.000000</td>\n",
              "      <td>10.000000</td>\n",
              "      <td>43.000000</td>\n",
              "      <td>2016-03-11 10:26:00</td>\n",
              "      <td>2020-01-01 00:00:00</td>\n",
              "      <td>9485.000000</td>\n",
              "      <td>1.000000</td>\n",
              "      <td>1.000000</td>\n",
              "      <td>10.000000</td>\n",
              "      <td>2014-12-31 00:00:00</td>\n",
              "      <td>2152.000000</td>\n",
              "    </tr>\n",
              "    <tr>\n",
              "      <th>std</th>\n",
              "      <td>NaN</td>\n",
              "      <td>11.661140</td>\n",
              "      <td>2.931703</td>\n",
              "      <td>5.302139</td>\n",
              "      <td>NaN</td>\n",
              "      <td>NaN</td>\n",
              "      <td>310.686935</td>\n",
              "      <td>0.576047</td>\n",
              "      <td>0.260467</td>\n",
              "      <td>2.613346</td>\n",
              "      <td>NaN</td>\n",
              "      <td>64.942729</td>\n",
              "    </tr>\n",
              "  </tbody>\n",
              "</table>\n",
              "</div>\n",
              "    <div class=\"colab-df-buttons\">\n",
              "\n",
              "  <div class=\"colab-df-container\">\n",
              "    <button class=\"colab-df-convert\" onclick=\"convertToInteractive('df-2a6db1ba-9c75-4bba-9331-b3dfce7d14ba')\"\n",
              "            title=\"Convert this dataframe to an interactive table.\"\n",
              "            style=\"display:none;\">\n",
              "\n",
              "  <svg xmlns=\"http://www.w3.org/2000/svg\" height=\"24px\" viewBox=\"0 -960 960 960\">\n",
              "    <path d=\"M120-120v-720h720v720H120Zm60-500h600v-160H180v160Zm220 220h160v-160H400v160Zm0 220h160v-160H400v160ZM180-400h160v-160H180v160Zm440 0h160v-160H620v160ZM180-180h160v-160H180v160Zm440 0h160v-160H620v160Z\"/>\n",
              "  </svg>\n",
              "    </button>\n",
              "\n",
              "  <style>\n",
              "    .colab-df-container {\n",
              "      display:flex;\n",
              "      gap: 12px;\n",
              "    }\n",
              "\n",
              "    .colab-df-convert {\n",
              "      background-color: #E8F0FE;\n",
              "      border: none;\n",
              "      border-radius: 50%;\n",
              "      cursor: pointer;\n",
              "      display: none;\n",
              "      fill: #1967D2;\n",
              "      height: 32px;\n",
              "      padding: 0 0 0 0;\n",
              "      width: 32px;\n",
              "    }\n",
              "\n",
              "    .colab-df-convert:hover {\n",
              "      background-color: #E2EBFA;\n",
              "      box-shadow: 0px 1px 2px rgba(60, 64, 67, 0.3), 0px 1px 3px 1px rgba(60, 64, 67, 0.15);\n",
              "      fill: #174EA6;\n",
              "    }\n",
              "\n",
              "    .colab-df-buttons div {\n",
              "      margin-bottom: 4px;\n",
              "    }\n",
              "\n",
              "    [theme=dark] .colab-df-convert {\n",
              "      background-color: #3B4455;\n",
              "      fill: #D2E3FC;\n",
              "    }\n",
              "\n",
              "    [theme=dark] .colab-df-convert:hover {\n",
              "      background-color: #434B5C;\n",
              "      box-shadow: 0px 1px 3px 1px rgba(0, 0, 0, 0.15);\n",
              "      filter: drop-shadow(0px 1px 2px rgba(0, 0, 0, 0.3));\n",
              "      fill: #FFFFFF;\n",
              "    }\n",
              "  </style>\n",
              "\n",
              "    <script>\n",
              "      const buttonEl =\n",
              "        document.querySelector('#df-2a6db1ba-9c75-4bba-9331-b3dfce7d14ba button.colab-df-convert');\n",
              "      buttonEl.style.display =\n",
              "        google.colab.kernel.accessAllowed ? 'block' : 'none';\n",
              "\n",
              "      async function convertToInteractive(key) {\n",
              "        const element = document.querySelector('#df-2a6db1ba-9c75-4bba-9331-b3dfce7d14ba');\n",
              "        const dataTable =\n",
              "          await google.colab.kernel.invokeFunction('convertToInteractive',\n",
              "                                                    [key], {});\n",
              "        if (!dataTable) return;\n",
              "\n",
              "        const docLinkHtml = 'Like what you see? Visit the ' +\n",
              "          '<a target=\"_blank\" href=https://colab.research.google.com/notebooks/data_table.ipynb>data table notebook</a>'\n",
              "          + ' to learn more about interactive tables.';\n",
              "        element.innerHTML = '';\n",
              "        dataTable['output_type'] = 'display_data';\n",
              "        await google.colab.output.renderOutput(dataTable, element);\n",
              "        const docLink = document.createElement('div');\n",
              "        docLink.innerHTML = docLinkHtml;\n",
              "        element.appendChild(docLink);\n",
              "      }\n",
              "    </script>\n",
              "  </div>\n",
              "\n",
              "\n",
              "<div id=\"df-4929a606-9934-49db-bc44-6758dd200359\">\n",
              "  <button class=\"colab-df-quickchart\" onclick=\"quickchart('df-4929a606-9934-49db-bc44-6758dd200359')\"\n",
              "            title=\"Suggest charts\"\n",
              "            style=\"display:none;\">\n",
              "\n",
              "<svg xmlns=\"http://www.w3.org/2000/svg\" height=\"24px\"viewBox=\"0 0 24 24\"\n",
              "     width=\"24px\">\n",
              "    <g>\n",
              "        <path d=\"M19 3H5c-1.1 0-2 .9-2 2v14c0 1.1.9 2 2 2h14c1.1 0 2-.9 2-2V5c0-1.1-.9-2-2-2zM9 17H7v-7h2v7zm4 0h-2V7h2v10zm4 0h-2v-4h2v4z\"/>\n",
              "    </g>\n",
              "</svg>\n",
              "  </button>\n",
              "\n",
              "<style>\n",
              "  .colab-df-quickchart {\n",
              "      --bg-color: #E8F0FE;\n",
              "      --fill-color: #1967D2;\n",
              "      --hover-bg-color: #E2EBFA;\n",
              "      --hover-fill-color: #174EA6;\n",
              "      --disabled-fill-color: #AAA;\n",
              "      --disabled-bg-color: #DDD;\n",
              "  }\n",
              "\n",
              "  [theme=dark] .colab-df-quickchart {\n",
              "      --bg-color: #3B4455;\n",
              "      --fill-color: #D2E3FC;\n",
              "      --hover-bg-color: #434B5C;\n",
              "      --hover-fill-color: #FFFFFF;\n",
              "      --disabled-bg-color: #3B4455;\n",
              "      --disabled-fill-color: #666;\n",
              "  }\n",
              "\n",
              "  .colab-df-quickchart {\n",
              "    background-color: var(--bg-color);\n",
              "    border: none;\n",
              "    border-radius: 50%;\n",
              "    cursor: pointer;\n",
              "    display: none;\n",
              "    fill: var(--fill-color);\n",
              "    height: 32px;\n",
              "    padding: 0;\n",
              "    width: 32px;\n",
              "  }\n",
              "\n",
              "  .colab-df-quickchart:hover {\n",
              "    background-color: var(--hover-bg-color);\n",
              "    box-shadow: 0 1px 2px rgba(60, 64, 67, 0.3), 0 1px 3px 1px rgba(60, 64, 67, 0.15);\n",
              "    fill: var(--button-hover-fill-color);\n",
              "  }\n",
              "\n",
              "  .colab-df-quickchart-complete:disabled,\n",
              "  .colab-df-quickchart-complete:disabled:hover {\n",
              "    background-color: var(--disabled-bg-color);\n",
              "    fill: var(--disabled-fill-color);\n",
              "    box-shadow: none;\n",
              "  }\n",
              "\n",
              "  .colab-df-spinner {\n",
              "    border: 2px solid var(--fill-color);\n",
              "    border-color: transparent;\n",
              "    border-bottom-color: var(--fill-color);\n",
              "    animation:\n",
              "      spin 1s steps(1) infinite;\n",
              "  }\n",
              "\n",
              "  @keyframes spin {\n",
              "    0% {\n",
              "      border-color: transparent;\n",
              "      border-bottom-color: var(--fill-color);\n",
              "      border-left-color: var(--fill-color);\n",
              "    }\n",
              "    20% {\n",
              "      border-color: transparent;\n",
              "      border-left-color: var(--fill-color);\n",
              "      border-top-color: var(--fill-color);\n",
              "    }\n",
              "    30% {\n",
              "      border-color: transparent;\n",
              "      border-left-color: var(--fill-color);\n",
              "      border-top-color: var(--fill-color);\n",
              "      border-right-color: var(--fill-color);\n",
              "    }\n",
              "    40% {\n",
              "      border-color: transparent;\n",
              "      border-right-color: var(--fill-color);\n",
              "      border-top-color: var(--fill-color);\n",
              "    }\n",
              "    60% {\n",
              "      border-color: transparent;\n",
              "      border-right-color: var(--fill-color);\n",
              "    }\n",
              "    80% {\n",
              "      border-color: transparent;\n",
              "      border-right-color: var(--fill-color);\n",
              "      border-bottom-color: var(--fill-color);\n",
              "    }\n",
              "    90% {\n",
              "      border-color: transparent;\n",
              "      border-bottom-color: var(--fill-color);\n",
              "    }\n",
              "  }\n",
              "</style>\n",
              "\n",
              "  <script>\n",
              "    async function quickchart(key) {\n",
              "      const quickchartButtonEl =\n",
              "        document.querySelector('#' + key + ' button');\n",
              "      quickchartButtonEl.disabled = true;  // To prevent multiple clicks.\n",
              "      quickchartButtonEl.classList.add('colab-df-spinner');\n",
              "      try {\n",
              "        const charts = await google.colab.kernel.invokeFunction(\n",
              "            'suggestCharts', [key], {});\n",
              "      } catch (error) {\n",
              "        console.error('Error during call to suggestCharts:', error);\n",
              "      }\n",
              "      quickchartButtonEl.classList.remove('colab-df-spinner');\n",
              "      quickchartButtonEl.classList.add('colab-df-quickchart-complete');\n",
              "    }\n",
              "    (() => {\n",
              "      let quickchartButtonEl =\n",
              "        document.querySelector('#df-4929a606-9934-49db-bc44-6758dd200359 button');\n",
              "      quickchartButtonEl.style.display =\n",
              "        google.colab.kernel.accessAllowed ? 'block' : 'none';\n",
              "    })();\n",
              "  </script>\n",
              "</div>\n",
              "\n",
              "    </div>\n",
              "  </div>\n"
            ],
            "application/vnd.google.colaboratory.intrinsic+json": {
              "type": "dataframe",
              "summary": "{\n  \"name\": \"data\",\n  \"rows\": 8,\n  \"fields\": [\n    {\n      \"column\": \"compas_screening_date\",\n      \"properties\": {\n        \"dtype\": \"date\",\n        \"min\": \"1970-01-01 00:00:00.000018293\",\n        \"max\": \"2014-12-31 00:00:00\",\n        \"num_unique_values\": 7,\n        \"samples\": [\n          \"18293\",\n          \"2013-11-23 01:43:12.007871744\",\n          \"2014-05-29 00:00:00\"\n        ],\n        \"semantic_type\": \"\",\n        \"description\": \"\"\n      }\n    },\n    {\n      \"column\": \"age\",\n      \"properties\": {\n        \"dtype\": \"number\",\n        \"std\": 6454.640174479929,\n        \"min\": 11.66113951821959,\n        \"max\": 18293.0,\n        \"num_unique_values\": 8,\n        \"samples\": [\n          34.010605149510745,\n          41.0,\n          18293.0\n        ],\n        \"semantic_type\": \"\",\n        \"description\": \"\"\n      }\n    },\n    {\n      \"column\": \"decile_score\",\n      \"properties\": {\n        \"dtype\": \"number\",\n        \"std\": 6465.8388296276225,\n        \"min\": 1.0,\n        \"max\": 18293.0,\n        \"num_unique_values\": 8,\n        \"samples\": [\n          5.004591920406713,\n          8.0,\n          18293.0\n        ],\n        \"semantic_type\": \"\",\n        \"description\": \"\"\n      }\n    },\n    {\n      \"column\": \"priors_count\",\n      \"properties\": {\n        \"dtype\": \"number\",\n        \"std\": 6464.576866761971,\n        \"min\": 0.0,\n        \"max\": 18293.0,\n        \"num_unique_values\": 7,\n        \"samples\": [\n          18293.0,\n          3.9166894440496365,\n          43.0\n        ],\n        \"semantic_type\": \"\",\n        \"description\": \"\"\n      }\n    },\n    {\n      \"column\": \"c_jail_in\",\n      \"properties\": {\n        \"dtype\": \"date\",\n        \"min\": \"1970-01-01 00:00:00.000018293\",\n        \"max\": \"2016-03-11 10:26:00\",\n        \"num_unique_values\": 7,\n        \"samples\": [\n          \"18293\",\n          \"2013-11-06 23:32:16.225878784\",\n          \"2014-05-15 10:48:00\"\n        ],\n        \"semantic_type\": \"\",\n        \"description\": \"\"\n      }\n    },\n    {\n      \"column\": \"c_jail_out\",\n      \"properties\": {\n        \"dtype\": \"date\",\n        \"min\": \"1970-01-01 00:00:00.000018293\",\n        \"max\": \"2020-01-01 00:00:00\",\n        \"num_unique_values\": 7,\n        \"samples\": [\n          \"18293\",\n          \"2013-12-06 16:26:17.885529856\",\n          \"2014-06-10 07:56:00\"\n        ],\n        \"semantic_type\": \"\",\n        \"description\": \"\"\n      }\n    },\n    {\n      \"column\": \"c_days_from_compas\",\n      \"properties\": {\n        \"dtype\": \"number\",\n        \"std\": 6820.792318820827,\n        \"min\": 0.0,\n        \"max\": 18293.0,\n        \"num_unique_values\": 7,\n        \"samples\": [\n          18293.0,\n          54.948231563986226,\n          9485.0\n        ],\n        \"semantic_type\": \"\",\n        \"description\": \"\"\n      }\n    },\n    {\n      \"column\": \"is_recid\",\n      \"properties\": {\n        \"dtype\": \"number\",\n        \"std\": 6467.451631361434,\n        \"min\": -1.0,\n        \"max\": 18293.0,\n        \"num_unique_values\": 6,\n        \"samples\": [\n          18293.0,\n          0.4152408024927568,\n          0.5760467072145161\n        ],\n        \"semantic_type\": \"\",\n        \"description\": \"\"\n      }\n    },\n    {\n      \"column\": \"is_violent_recid\",\n      \"properties\": {\n        \"dtype\": \"number\",\n        \"std\": 6467.484822926556,\n        \"min\": 0.0,\n        \"max\": 18293.0,\n        \"num_unique_values\": 5,\n        \"samples\": [\n          0.07319739791176953,\n          0.2604673636957823,\n          0.0\n        ],\n        \"semantic_type\": \"\",\n        \"description\": \"\"\n      }\n    },\n    {\n      \"column\": \"v_decile_score\",\n      \"properties\": {\n        \"dtype\": \"number\",\n        \"std\": 6466.05587570928,\n        \"min\": 1.0,\n        \"max\": 18293.0,\n        \"num_unique_values\": 8,\n        \"samples\": [\n          4.023779587820478,\n          6.0,\n          18293.0\n        ],\n        \"semantic_type\": \"\",\n        \"description\": \"\"\n      }\n    },\n    {\n      \"column\": \"v_screening_date\",\n      \"properties\": {\n        \"dtype\": \"date\",\n        \"min\": \"1970-01-01 00:00:00.000018293\",\n        \"max\": \"2014-12-31 00:00:00\",\n        \"num_unique_values\": 7,\n        \"samples\": [\n          \"18293\",\n          \"2013-11-23 01:43:12.007871744\",\n          \"2014-05-29 00:00:00\"\n        ],\n        \"semantic_type\": \"\",\n        \"description\": \"\"\n      }\n    },\n    {\n      \"column\": \"days_in_jail\",\n      \"properties\": {\n        \"dtype\": \"number\",\n        \"std\": 6397.444698895603,\n        \"min\": 0.0,\n        \"max\": 18293.0,\n        \"num_unique_values\": 7,\n        \"samples\": [\n          18293.0,\n          23.306838681462853,\n          2152.0\n        ],\n        \"semantic_type\": \"\",\n        \"description\": \"\"\n      }\n    }\n  ]\n}"
            }
          },
          "metadata": {},
          "execution_count": 120
        }
      ]
    },
    {
      "cell_type": "markdown",
      "source": [
        "# EDA\n",
        "\n",
        "A partir de aquí se realiza el EDA sobre el \"clean dataset\" con el objetivo de visualmente localizar alguna inclinación o mayor proporción de los datos dentro de alguna feature hacia algún valor o categoría que luego impacte en el entrenamiento.\n",
        "\n",
        "También se intenta ver con la columna \"is_recid\" y \"decile_score\" la realidad de reincidencia frente a la puntuación otorgada por el algoritmo. Para ello se va a \"categorizar\" la puntuación COMPAS \"decile_score\" en dos grupos mediante un threshold. En este caso, los samples que tengan un \"decile_score\" > 5 serán otorgados la categoría \"reincidente\" y los que no la superen \"no reincidentes\".\n"
      ],
      "metadata": {
        "id": "FuACWighTO6I"
      }
    },
    {
      "cell_type": "code",
      "source": [
        "data[\"compas_recid\"] = data[\"decile_score\"].apply(lambda x: 1 if x > 5 else 0)"
      ],
      "metadata": {
        "id": "N-sfQIOmUfnq"
      },
      "execution_count": 121,
      "outputs": []
    },
    {
      "cell_type": "markdown",
      "source": [
        "## Compara proprocion usando este threshold con la proporcion real"
      ],
      "metadata": {
        "id": "xb0c1faIU8o9"
      }
    },
    {
      "cell_type": "code",
      "source": [
        "data[\"compas_recid\"].value_counts()"
      ],
      "metadata": {
        "colab": {
          "base_uri": "https://localhost:8080/"
        },
        "id": "14IMl1aOUtjT",
        "outputId": "83f4c3da-b484-4f2d-d9d2-842fb1a89e58"
      },
      "execution_count": 122,
      "outputs": [
        {
          "output_type": "execute_result",
          "data": {
            "text/plain": [
              "compas_recid\n",
              "0    10246\n",
              "1     8047\n",
              "Name: count, dtype: int64"
            ]
          },
          "metadata": {},
          "execution_count": 122
        }
      ]
    },
    {
      "cell_type": "code",
      "source": [
        "data[\"is_recid\"].value_counts()"
      ],
      "metadata": {
        "colab": {
          "base_uri": "https://localhost:8080/"
        },
        "id": "IAjsGpj1U18y",
        "outputId": "f0a32fc3-9cda-49b8-ef9b-5939a0a4e5c6"
      },
      "execution_count": 123,
      "outputs": [
        {
          "output_type": "execute_result",
          "data": {
            "text/plain": [
              "is_recid\n",
              " 0    9069\n",
              " 1    8410\n",
              "-1     814\n",
              "Name: count, dtype: int64"
            ]
          },
          "metadata": {},
          "execution_count": 123
        }
      ]
    },
    {
      "cell_type": "code",
      "source": [
        "# Dropeamos samples con -1\n",
        "data[\"is_recid\"] = data[\"is_recid\"].replace(-1, 0)"
      ],
      "metadata": {
        "id": "rRKjz4QXVIau"
      },
      "execution_count": 124,
      "outputs": []
    },
    {
      "cell_type": "markdown",
      "source": [
        "Finalmente :"
      ],
      "metadata": {
        "id": "rnU6d4XvXeGg"
      }
    },
    {
      "cell_type": "code",
      "source": [
        "# Vemos si existe o no coinicidencia entre amnbos criterios de reincidencia\n",
        "data.loc[:,[\"is_recid\",\"compas_recid\"]].head(10)"
      ],
      "metadata": {
        "colab": {
          "base_uri": "https://localhost:8080/",
          "height": 363
        },
        "id": "P4HDKqmtYnUu",
        "outputId": "42d9c3db-4544-4c4e-978d-6a88492f6801"
      },
      "execution_count": 125,
      "outputs": [
        {
          "output_type": "execute_result",
          "data": {
            "text/plain": [
              "   is_recid  compas_recid\n",
              "0         0             0\n",
              "1         0             0\n",
              "2         0             0\n",
              "3         1             0\n",
              "4         1             0\n",
              "5         1             0\n",
              "6         1             0\n",
              "7         1             0\n",
              "8         1             0\n",
              "9         0             1"
            ],
            "text/html": [
              "\n",
              "  <div id=\"df-e655df51-4945-4c35-b44d-6ef8f3921e26\" class=\"colab-df-container\">\n",
              "    <div>\n",
              "<style scoped>\n",
              "    .dataframe tbody tr th:only-of-type {\n",
              "        vertical-align: middle;\n",
              "    }\n",
              "\n",
              "    .dataframe tbody tr th {\n",
              "        vertical-align: top;\n",
              "    }\n",
              "\n",
              "    .dataframe thead th {\n",
              "        text-align: right;\n",
              "    }\n",
              "</style>\n",
              "<table border=\"1\" class=\"dataframe\">\n",
              "  <thead>\n",
              "    <tr style=\"text-align: right;\">\n",
              "      <th></th>\n",
              "      <th>is_recid</th>\n",
              "      <th>compas_recid</th>\n",
              "    </tr>\n",
              "  </thead>\n",
              "  <tbody>\n",
              "    <tr>\n",
              "      <th>0</th>\n",
              "      <td>0</td>\n",
              "      <td>0</td>\n",
              "    </tr>\n",
              "    <tr>\n",
              "      <th>1</th>\n",
              "      <td>0</td>\n",
              "      <td>0</td>\n",
              "    </tr>\n",
              "    <tr>\n",
              "      <th>2</th>\n",
              "      <td>0</td>\n",
              "      <td>0</td>\n",
              "    </tr>\n",
              "    <tr>\n",
              "      <th>3</th>\n",
              "      <td>1</td>\n",
              "      <td>0</td>\n",
              "    </tr>\n",
              "    <tr>\n",
              "      <th>4</th>\n",
              "      <td>1</td>\n",
              "      <td>0</td>\n",
              "    </tr>\n",
              "    <tr>\n",
              "      <th>5</th>\n",
              "      <td>1</td>\n",
              "      <td>0</td>\n",
              "    </tr>\n",
              "    <tr>\n",
              "      <th>6</th>\n",
              "      <td>1</td>\n",
              "      <td>0</td>\n",
              "    </tr>\n",
              "    <tr>\n",
              "      <th>7</th>\n",
              "      <td>1</td>\n",
              "      <td>0</td>\n",
              "    </tr>\n",
              "    <tr>\n",
              "      <th>8</th>\n",
              "      <td>1</td>\n",
              "      <td>0</td>\n",
              "    </tr>\n",
              "    <tr>\n",
              "      <th>9</th>\n",
              "      <td>0</td>\n",
              "      <td>1</td>\n",
              "    </tr>\n",
              "  </tbody>\n",
              "</table>\n",
              "</div>\n",
              "    <div class=\"colab-df-buttons\">\n",
              "\n",
              "  <div class=\"colab-df-container\">\n",
              "    <button class=\"colab-df-convert\" onclick=\"convertToInteractive('df-e655df51-4945-4c35-b44d-6ef8f3921e26')\"\n",
              "            title=\"Convert this dataframe to an interactive table.\"\n",
              "            style=\"display:none;\">\n",
              "\n",
              "  <svg xmlns=\"http://www.w3.org/2000/svg\" height=\"24px\" viewBox=\"0 -960 960 960\">\n",
              "    <path d=\"M120-120v-720h720v720H120Zm60-500h600v-160H180v160Zm220 220h160v-160H400v160Zm0 220h160v-160H400v160ZM180-400h160v-160H180v160Zm440 0h160v-160H620v160ZM180-180h160v-160H180v160Zm440 0h160v-160H620v160Z\"/>\n",
              "  </svg>\n",
              "    </button>\n",
              "\n",
              "  <style>\n",
              "    .colab-df-container {\n",
              "      display:flex;\n",
              "      gap: 12px;\n",
              "    }\n",
              "\n",
              "    .colab-df-convert {\n",
              "      background-color: #E8F0FE;\n",
              "      border: none;\n",
              "      border-radius: 50%;\n",
              "      cursor: pointer;\n",
              "      display: none;\n",
              "      fill: #1967D2;\n",
              "      height: 32px;\n",
              "      padding: 0 0 0 0;\n",
              "      width: 32px;\n",
              "    }\n",
              "\n",
              "    .colab-df-convert:hover {\n",
              "      background-color: #E2EBFA;\n",
              "      box-shadow: 0px 1px 2px rgba(60, 64, 67, 0.3), 0px 1px 3px 1px rgba(60, 64, 67, 0.15);\n",
              "      fill: #174EA6;\n",
              "    }\n",
              "\n",
              "    .colab-df-buttons div {\n",
              "      margin-bottom: 4px;\n",
              "    }\n",
              "\n",
              "    [theme=dark] .colab-df-convert {\n",
              "      background-color: #3B4455;\n",
              "      fill: #D2E3FC;\n",
              "    }\n",
              "\n",
              "    [theme=dark] .colab-df-convert:hover {\n",
              "      background-color: #434B5C;\n",
              "      box-shadow: 0px 1px 3px 1px rgba(0, 0, 0, 0.15);\n",
              "      filter: drop-shadow(0px 1px 2px rgba(0, 0, 0, 0.3));\n",
              "      fill: #FFFFFF;\n",
              "    }\n",
              "  </style>\n",
              "\n",
              "    <script>\n",
              "      const buttonEl =\n",
              "        document.querySelector('#df-e655df51-4945-4c35-b44d-6ef8f3921e26 button.colab-df-convert');\n",
              "      buttonEl.style.display =\n",
              "        google.colab.kernel.accessAllowed ? 'block' : 'none';\n",
              "\n",
              "      async function convertToInteractive(key) {\n",
              "        const element = document.querySelector('#df-e655df51-4945-4c35-b44d-6ef8f3921e26');\n",
              "        const dataTable =\n",
              "          await google.colab.kernel.invokeFunction('convertToInteractive',\n",
              "                                                    [key], {});\n",
              "        if (!dataTable) return;\n",
              "\n",
              "        const docLinkHtml = 'Like what you see? Visit the ' +\n",
              "          '<a target=\"_blank\" href=https://colab.research.google.com/notebooks/data_table.ipynb>data table notebook</a>'\n",
              "          + ' to learn more about interactive tables.';\n",
              "        element.innerHTML = '';\n",
              "        dataTable['output_type'] = 'display_data';\n",
              "        await google.colab.output.renderOutput(dataTable, element);\n",
              "        const docLink = document.createElement('div');\n",
              "        docLink.innerHTML = docLinkHtml;\n",
              "        element.appendChild(docLink);\n",
              "      }\n",
              "    </script>\n",
              "  </div>\n",
              "\n",
              "\n",
              "<div id=\"df-240a3633-070e-47d5-aa08-57664890b1a0\">\n",
              "  <button class=\"colab-df-quickchart\" onclick=\"quickchart('df-240a3633-070e-47d5-aa08-57664890b1a0')\"\n",
              "            title=\"Suggest charts\"\n",
              "            style=\"display:none;\">\n",
              "\n",
              "<svg xmlns=\"http://www.w3.org/2000/svg\" height=\"24px\"viewBox=\"0 0 24 24\"\n",
              "     width=\"24px\">\n",
              "    <g>\n",
              "        <path d=\"M19 3H5c-1.1 0-2 .9-2 2v14c0 1.1.9 2 2 2h14c1.1 0 2-.9 2-2V5c0-1.1-.9-2-2-2zM9 17H7v-7h2v7zm4 0h-2V7h2v10zm4 0h-2v-4h2v4z\"/>\n",
              "    </g>\n",
              "</svg>\n",
              "  </button>\n",
              "\n",
              "<style>\n",
              "  .colab-df-quickchart {\n",
              "      --bg-color: #E8F0FE;\n",
              "      --fill-color: #1967D2;\n",
              "      --hover-bg-color: #E2EBFA;\n",
              "      --hover-fill-color: #174EA6;\n",
              "      --disabled-fill-color: #AAA;\n",
              "      --disabled-bg-color: #DDD;\n",
              "  }\n",
              "\n",
              "  [theme=dark] .colab-df-quickchart {\n",
              "      --bg-color: #3B4455;\n",
              "      --fill-color: #D2E3FC;\n",
              "      --hover-bg-color: #434B5C;\n",
              "      --hover-fill-color: #FFFFFF;\n",
              "      --disabled-bg-color: #3B4455;\n",
              "      --disabled-fill-color: #666;\n",
              "  }\n",
              "\n",
              "  .colab-df-quickchart {\n",
              "    background-color: var(--bg-color);\n",
              "    border: none;\n",
              "    border-radius: 50%;\n",
              "    cursor: pointer;\n",
              "    display: none;\n",
              "    fill: var(--fill-color);\n",
              "    height: 32px;\n",
              "    padding: 0;\n",
              "    width: 32px;\n",
              "  }\n",
              "\n",
              "  .colab-df-quickchart:hover {\n",
              "    background-color: var(--hover-bg-color);\n",
              "    box-shadow: 0 1px 2px rgba(60, 64, 67, 0.3), 0 1px 3px 1px rgba(60, 64, 67, 0.15);\n",
              "    fill: var(--button-hover-fill-color);\n",
              "  }\n",
              "\n",
              "  .colab-df-quickchart-complete:disabled,\n",
              "  .colab-df-quickchart-complete:disabled:hover {\n",
              "    background-color: var(--disabled-bg-color);\n",
              "    fill: var(--disabled-fill-color);\n",
              "    box-shadow: none;\n",
              "  }\n",
              "\n",
              "  .colab-df-spinner {\n",
              "    border: 2px solid var(--fill-color);\n",
              "    border-color: transparent;\n",
              "    border-bottom-color: var(--fill-color);\n",
              "    animation:\n",
              "      spin 1s steps(1) infinite;\n",
              "  }\n",
              "\n",
              "  @keyframes spin {\n",
              "    0% {\n",
              "      border-color: transparent;\n",
              "      border-bottom-color: var(--fill-color);\n",
              "      border-left-color: var(--fill-color);\n",
              "    }\n",
              "    20% {\n",
              "      border-color: transparent;\n",
              "      border-left-color: var(--fill-color);\n",
              "      border-top-color: var(--fill-color);\n",
              "    }\n",
              "    30% {\n",
              "      border-color: transparent;\n",
              "      border-left-color: var(--fill-color);\n",
              "      border-top-color: var(--fill-color);\n",
              "      border-right-color: var(--fill-color);\n",
              "    }\n",
              "    40% {\n",
              "      border-color: transparent;\n",
              "      border-right-color: var(--fill-color);\n",
              "      border-top-color: var(--fill-color);\n",
              "    }\n",
              "    60% {\n",
              "      border-color: transparent;\n",
              "      border-right-color: var(--fill-color);\n",
              "    }\n",
              "    80% {\n",
              "      border-color: transparent;\n",
              "      border-right-color: var(--fill-color);\n",
              "      border-bottom-color: var(--fill-color);\n",
              "    }\n",
              "    90% {\n",
              "      border-color: transparent;\n",
              "      border-bottom-color: var(--fill-color);\n",
              "    }\n",
              "  }\n",
              "</style>\n",
              "\n",
              "  <script>\n",
              "    async function quickchart(key) {\n",
              "      const quickchartButtonEl =\n",
              "        document.querySelector('#' + key + ' button');\n",
              "      quickchartButtonEl.disabled = true;  // To prevent multiple clicks.\n",
              "      quickchartButtonEl.classList.add('colab-df-spinner');\n",
              "      try {\n",
              "        const charts = await google.colab.kernel.invokeFunction(\n",
              "            'suggestCharts', [key], {});\n",
              "      } catch (error) {\n",
              "        console.error('Error during call to suggestCharts:', error);\n",
              "      }\n",
              "      quickchartButtonEl.classList.remove('colab-df-spinner');\n",
              "      quickchartButtonEl.classList.add('colab-df-quickchart-complete');\n",
              "    }\n",
              "    (() => {\n",
              "      let quickchartButtonEl =\n",
              "        document.querySelector('#df-240a3633-070e-47d5-aa08-57664890b1a0 button');\n",
              "      quickchartButtonEl.style.display =\n",
              "        google.colab.kernel.accessAllowed ? 'block' : 'none';\n",
              "    })();\n",
              "  </script>\n",
              "</div>\n",
              "\n",
              "    </div>\n",
              "  </div>\n"
            ],
            "application/vnd.google.colaboratory.intrinsic+json": {
              "type": "dataframe",
              "summary": "{\n  \"name\": \"data\",\n  \"rows\": 10,\n  \"fields\": [\n    {\n      \"column\": \"is_recid\",\n      \"properties\": {\n        \"dtype\": \"number\",\n        \"std\": 0,\n        \"min\": 0,\n        \"max\": 1,\n        \"num_unique_values\": 2,\n        \"samples\": [\n          1,\n          0\n        ],\n        \"semantic_type\": \"\",\n        \"description\": \"\"\n      }\n    },\n    {\n      \"column\": \"compas_recid\",\n      \"properties\": {\n        \"dtype\": \"number\",\n        \"std\": 0,\n        \"min\": 0,\n        \"max\": 1,\n        \"num_unique_values\": 2,\n        \"samples\": [\n          1,\n          0\n        ],\n        \"semantic_type\": \"\",\n        \"description\": \"\"\n      }\n    }\n  ]\n}"
            }
          },
          "metadata": {},
          "execution_count": 125
        }
      ]
    },
    {
      "cell_type": "code",
      "source": [
        "data[\"is_recid\"].value_counts()"
      ],
      "metadata": {
        "colab": {
          "base_uri": "https://localhost:8080/"
        },
        "id": "gSx1WLgbWrNL",
        "outputId": "acad7fab-975a-4dde-d930-25c8a79c0182"
      },
      "execution_count": 126,
      "outputs": [
        {
          "output_type": "execute_result",
          "data": {
            "text/plain": [
              "is_recid\n",
              "0    9883\n",
              "1    8410\n",
              "Name: count, dtype: int64"
            ]
          },
          "metadata": {},
          "execution_count": 126
        }
      ]
    },
    {
      "cell_type": "code",
      "source": [
        "data[\"compas_recid\"].value_counts()"
      ],
      "metadata": {
        "colab": {
          "base_uri": "https://localhost:8080/"
        },
        "id": "wr96rdb4Xfzl",
        "outputId": "84e30970-aa6f-4c7b-9c7c-ced9bb814739"
      },
      "execution_count": 127,
      "outputs": [
        {
          "output_type": "execute_result",
          "data": {
            "text/plain": [
              "compas_recid\n",
              "0    10246\n",
              "1     8047\n",
              "Name: count, dtype: int64"
            ]
          },
          "metadata": {},
          "execution_count": 127
        }
      ]
    },
    {
      "cell_type": "markdown",
      "source": [
        "Analizamos los individuos donde la ground truth de reincidencia y la otorgada por compas coincide"
      ],
      "metadata": {
        "id": "iMXGKbytXlLr"
      }
    },
    {
      "cell_type": "code",
      "source": [
        "data.shape[0]"
      ],
      "metadata": {
        "colab": {
          "base_uri": "https://localhost:8080/"
        },
        "id": "WkWvf1FlX8K1",
        "outputId": "f74ed181-6354-423f-a698-d2be52beef96"
      },
      "execution_count": 128,
      "outputs": [
        {
          "output_type": "execute_result",
          "data": {
            "text/plain": [
              "18293"
            ]
          },
          "metadata": {},
          "execution_count": 128
        }
      ]
    },
    {
      "cell_type": "code",
      "source": [
        "# Proprocion de coincidencia entre ambos\n",
        "data_common = data[data[\"is_recid\"] == data[\"compas_recid\"]]\n",
        "data_common.shape[0] / data.shape[0]"
      ],
      "metadata": {
        "colab": {
          "base_uri": "https://localhost:8080/"
        },
        "id": "abjeLvdTX-Nm",
        "outputId": "e789a91d-a316-45fa-942f-d63ebf419514"
      },
      "execution_count": 129,
      "outputs": [
        {
          "output_type": "execute_result",
          "data": {
            "text/plain": [
              "0.6285464385283989"
            ]
          },
          "metadata": {},
          "execution_count": 129
        }
      ]
    },
    {
      "cell_type": "code",
      "source": [
        "# Proprocion de no coincidencia entre ambos criterios :\n",
        "data_not_common = data[data[\"is_recid\"] != data[\"compas_recid\"]]\n",
        "data_not_common.shape[0] / data.shape[0]"
      ],
      "metadata": {
        "colab": {
          "base_uri": "https://localhost:8080/"
        },
        "id": "YJ35yVUwXuho",
        "outputId": "be92959f-d457-49d4-bb31-4f714400f081"
      },
      "execution_count": 132,
      "outputs": [
        {
          "output_type": "execute_result",
          "data": {
            "text/plain": [
              "0.37145356147160113"
            ]
          },
          "metadata": {},
          "execution_count": 132
        }
      ]
    },
    {
      "cell_type": "markdown",
      "source": [
        "Como se observa el threshold dado para la reincidencia podría ajustarse más para que ambos criterios coincidan"
      ],
      "metadata": {
        "id": "KqEUf8WtZS41"
      }
    },
    {
      "cell_type": "markdown",
      "source": [
        "## Eda class\n",
        "\n",
        "Ahora si se va a analizar el sesgo de COMPAS mediante el EDA del dataset"
      ],
      "metadata": {
        "id": "THzyM1O7Uqzn"
      }
    },
    {
      "cell_type": "code",
      "source": [
        "import seaborn as sb\n",
        "import matplotlib.pyplot as plt\n",
        "from typing import Union\n",
        "\n",
        "\n",
        "class CompasEda:\n",
        "    def __init__(self, dataframe):\n",
        "        self.dataframe = dataframe\n",
        "\n",
        "    def histogram(self, divide_by_score : Union[bool,None] = None):\n",
        "        for column in self.dataframe.select_dtypes(include=['int64', 'float64']).columns:\n",
        "          if divide_by_score:\n",
        "            x_0 = self.dataframe[self.dataframe[\"is_recid\"] == 1][column]\n",
        "            x_1 = self.dataframe[self.dataframe[\"is_recid\"] == 0][column]\n",
        "            plt.figure(figsize=(10, 8))\n",
        "            plt.hist(x=x_0, bins='auto', color='#0504aa', alpha=0.7, rwidth=0.85, label = '1')\n",
        "            plt.hist(x=x_1, bins='auto', color='#ff5733', alpha=0.7, rwidth=0.85, label = '0')\n",
        "            plt.grid(axis='y', alpha=0.75)\n",
        "            plt.xlabel(column)\n",
        "            plt.ylabel('Frequency')\n",
        "            plt.legend()\n",
        "            plt.title(column)\n",
        "            plt.show()\n",
        "          else:\n",
        "            plt.figure(figsize=(10, 8))\n",
        "            plt.hist(x=self.dataframe[column], bins='auto', color='#0504aa', alpha=0.7, rwidth=0.85)\n",
        "            plt.grid(axis='y', alpha=0.75)\n",
        "            plt.xlabel(column)\n",
        "            plt.ylabel('Frequency')\n",
        "            plt.title(column)\n",
        "            plt.show()\n",
        "\n",
        "\n",
        "    def boxplot(self, divide_by_score : Union[bool,None] = None):\n",
        "        for column in self.dataframe.select_dtypes(include=['int64', 'float64']).columns:\n",
        "          if divide_by_score:\n",
        "            x_0 = self.dataframe[self.dataframe[\"is_recid\"] == 1][column]\n",
        "            x_1 = self.dataframe[self.dataframe[\"is_recid\"] == 0][column]\n",
        "            plt.figure(figsize=(8, 8))\n",
        "            sb.boxplot(x=x_0, color='#0504aa')\n",
        "            sb.boxplot(x=x_1, color='#ff5733')\n",
        "            sb.boxplot(x=x_2, color='#33c1ff')\n",
        "            plt.grid(axis='y', alpha=0.75)\n",
        "            plt.xlabel(column)\n",
        "            plt.ylabel('Frequency')\n",
        "            plt.title(column)\n",
        "            plt.show()\n",
        "          else:\n",
        "            plt.figure(figsize=(8, 8))\n",
        "            sb.boxplot(x=self.dataframe[column])\n",
        "            plt.grid(axis='y', alpha=0.75)\n",
        "            plt.xlabel(column)\n",
        "            plt.title(column)\n",
        "            plt.show()\n",
        "\n",
        "    def barplot(self, divide_by_score : Union[bool,None] = None):\n",
        "        for column in self.dataframe.select_dtypes(include=['object']).columns:\n",
        "          if divide_by_score:\n",
        "            x_0 = self.dataframe[self.dataframe[\"is_recid\"] == 1][column]\n",
        "            x_1 = self.dataframe[self.dataframe[\"is_recid\"] == 0][column]\n",
        "            plt.figure(figsize=(8, 8))\n",
        "            sb.barplot(data=x_0, color='#0504aa', legend = \"1\")\n",
        "            sb.barplot(data=x_1, color='#ff5733',  legend = \"0\")\n",
        "            sb.barplot(data=x_2, color='#33c1ff', legend = \"-1\")\n",
        "            plt.grid(axis='y', alpha=0.75)\n",
        "            plt.xlabel(column)\n",
        "            plt.ylabel('Frequency')\n",
        "            plt.title(column)\n",
        "            plt.show()\n",
        "          else:\n",
        "            plt.figure(figsize=(8, 8))\n",
        "            sb.barplot(x=self.dataframe[column])\n",
        "            plt.grid(axis='y', alpha=0.75)\n",
        "            plt.xlabel(column)\n",
        "            plt.title(column)\n",
        "            plt.show()\n",
        "\n",
        "    def countplot(self, x :str , hue : str , title : str):\n",
        "      hue_order = list(self.dataframe[hue].unique())\n",
        "      plt.figure(figsize=(12, 6))\n",
        "      sns.countplot(data=self.dataframe, x=x , hue=hue, palette='Set1', hue_order=hue_order)\n",
        "      plt.title(title)\n",
        "      plt.xlabel(x)\n",
        "      plt.ylabel('Count')\n",
        "      plt.legend(title=hue)\n",
        "      plt.xticks(rotation=45)\n",
        "      plt.grid()\n",
        "      plt.show()\n",
        "\n"
      ],
      "metadata": {
        "id": "jlWCpKWcIeuB"
      },
      "execution_count": 145,
      "outputs": []
    },
    {
      "cell_type": "code",
      "source": [
        "compas_eda = CompasEda(dataframe=data)"
      ],
      "metadata": {
        "id": "8VVdrE2aJfxX"
      },
      "execution_count": 146,
      "outputs": []
    },
    {
      "cell_type": "code",
      "source": [
        "compas_eda.histogram(divide_by_score=True)"
      ],
      "metadata": {
        "colab": {
          "base_uri": "https://localhost:8080/",
          "height": 1000
        },
        "id": "_fMf4izuJluF",
        "outputId": "ef6b0362-721f-4429-bcd0-82ed9ff63145"
      },
      "execution_count": 147,
      "outputs": [
        {
          "output_type": "display_data",
          "data": {
            "text/plain": [
              "<Figure size 1000x800 with 1 Axes>"
            ],
            "image/png": "[encoded data removed]"
          },
          "metadata": {}
        },
        {
          "output_type": "display_data",
          "data": {
            "text/plain": [
              "<Figure size 1000x800 with 1 Axes>"
            ],
            "image/png": "[encoded data removed]"
          },
          "metadata": {}
        },
        {
          "output_type": "display_data",
          "data": {
            "text/plain": [
              "<Figure size 1000x800 with 1 Axes>"
            ],
            "image/png": "[encoded data removed]"
          },
          "metadata": {}
        },
        {
          "output_type": "display_data",
          "data": {
            "text/plain": [
              "<Figure size 1000x800 with 1 Axes>"
            ],
            "image/png": "[encoded data removed]"
          },
          "metadata": {}
        },
        {
          "output_type": "display_data",
          "data": {
            "text/plain": [
              "<Figure size 1000x800 with 1 Axes>"
            ],
            "image/png": "[encoded data removed]"
          },
          "metadata": {}
        },
        {
          "output_type": "display_data",
          "data": {
            "text/plain": [
              "<Figure size 1000x800 with 1 Axes>"
            ],
            "image/png": "[encoded data removed]"
          },
          "metadata": {}
        },
        {
          "output_type": "display_data",
          "data": {
            "text/plain": [
              "<Figure size 1000x800 with 1 Axes>"
            ],
            "image/png": "[encoded data removed]"
          },
          "metadata": {}
        },
        {
          "output_type": "display_data",
          "data": {
            "text/plain": [
              "<Figure size 1000x800 with 1 Axes>"
            ],
            "image/png": "[encoded data removed]"
          },
          "metadata": {}
        },
        {
          "output_type": "display_data",
          "data": {
            "text/plain": [
              "<Figure size 1000x800 with 1 Axes>"
            ],
            "image/png": "[encoded data removed]"
          },
          "metadata": {}
        }
      ]
    },
    {
      "cell_type": "code",
      "source": [
        "compas_eda.boxplot(divide_by_score=True)"
      ],
      "metadata": {
        "id": "W33DL_PLJnlN"
      },
      "execution_count": null,
      "outputs": []
    },
    {
      "cell_type": "code",
      "source": [
        "compas_eda.countplot(x = 'race', hue = 'sex' , title = \"Casos por sexo y raza\")"
      ],
      "metadata": {
        "colab": {
          "base_uri": "https://localhost:8080/",
          "height": 644
        },
        "id": "qKXkBmd3NUDN",
        "outputId": "e4a75517-4f81-41cc-dca3-482c2848ccec"
      },
      "execution_count": 148,
      "outputs": [
        {
          "output_type": "display_data",
          "data": {
            "text/plain": [
              "<Figure size 1200x600 with 1 Axes>"
            ],
            "image/png": "[encoded data removed]"
          },
          "metadata": {}
        }
      ]
    },
    {
      "cell_type": "code",
      "source": [
        "compas_eda.countplot(x = 'race', hue = 'age_cat' , title =\"Casos por edad y raza\")"
      ],
      "metadata": {
        "colab": {
          "base_uri": "https://localhost:8080/",
          "height": 644
        },
        "id": "DA3QnYMKQWMx",
        "outputId": "bfc83099-2e17-4181-9da6-cedc77288db2"
      },
      "execution_count": 149,
      "outputs": [
        {
          "output_type": "display_data",
          "data": {
            "text/plain": [
              "<Figure size 1200x600 with 1 Axes>"
            ],
            "image/png": "[encoded data removed]"
          },
          "metadata": {}
        }
      ]
    },
    {
      "cell_type": "code",
      "source": [
        "compas_eda.countplot(x = 'race', hue = 'is_recid' , title = \"Casos por reincidencia real y raza\")"
      ],
      "metadata": {
        "colab": {
          "base_uri": "https://localhost:8080/",
          "height": 644
        },
        "id": "rI5mPYW3Q5uV",
        "outputId": "b1d2aae1-051f-4736-c6cd-81c695a8ad14"
      },
      "execution_count": 150,
      "outputs": [
        {
          "output_type": "display_data",
          "data": {
            "text/plain": [
              "<Figure size 1200x600 with 1 Axes>"
            ],
            "image/png": "[encoded data removed]"
          },
          "metadata": {}
        }
      ]
    },
    {
      "cell_type": "code",
      "source": [
        "compas_eda.countplot(x = 'race', hue = 'compas_recid' , title = \"Casos por reincidencia COMPAS y raza\")\n"
      ],
      "metadata": {
        "colab": {
          "base_uri": "https://localhost:8080/",
          "height": 644
        },
        "id": "SSO8FnIGR4Jc",
        "outputId": "c29aac57-5213-4359-bbf5-9df07f6da17f"
      },
      "execution_count": 151,
      "outputs": [
        {
          "output_type": "display_data",
          "data": {
            "text/plain": [
              "<Figure size 1200x600 with 1 Axes>"
            ],
            "image/png": "[encoded data removed]"
          },
          "metadata": {}
        }
      ]
    },
    {
      "cell_type": "markdown",
      "source": [
        "**En estas dos últimas gráficas se observa un pequeño sesgo de COMPAS respecto del ground truth de clasificar a los afro-americanos como reincidentes. Mientras que para, por ejemplo, los caucásicos es a la inversa**"
      ],
      "metadata": {
        "id": "3YZFNcNdaq51"
      }
    },
    {
      "cell_type": "code",
      "source": [],
      "metadata": {
        "id": "jWNPk1xzbEJA"
      },
      "execution_count": null,
      "outputs": []
    }
  ]
}